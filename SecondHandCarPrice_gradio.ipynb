{
  "nbformat": 4,
  "nbformat_minor": 0,
  "metadata": {
    "colab": {
      "provenance": [],
      "authorship_tag": "ABX9TyMZgxs6jJGRD2jW7eVt0Tvn",
      "include_colab_link": true
    },
    "kernelspec": {
      "name": "python3",
      "display_name": "Python 3"
    },
    "language_info": {
      "name": "python"
    }
  },
  "cells": [
    {
      "cell_type": "markdown",
      "metadata": {
        "id": "view-in-github",
        "colab_type": "text"
      },
      "source": [
        "<a href=\"https://colab.research.google.com/github/PraeJi/SecondHandCarPrice_Regression/blob/main/SecondHandCarPrice_gradio.ipynb\" target=\"_parent\"><img src=\"https://colab.research.google.com/assets/colab-badge.svg\" alt=\"Open In Colab\"/></a>"
      ]
    },
    {
      "cell_type": "code",
      "execution_count": null,
      "metadata": {
        "id": "X5JiH7tu7ift"
      },
      "outputs": [],
      "source": [
        "'''!pip install gradio==3.35.0\n",
        "!pip install'''"
      ]
    },
    {
      "cell_type": "code",
      "source": [
        "import joblib\n",
        "import numpy as np\n",
        "import pandas as pd\n",
        "import gradio as gr\n",
        "\n",
        "import torch\n",
        "import torch.nn as nn\n",
        "from torch.utils.data import Dataset, DataLoader"
      ],
      "metadata": {
        "id": "fREf_WL17vP3"
      },
      "execution_count": null,
      "outputs": []
    },
    {
      "cell_type": "code",
      "source": [
        "class CarPriceDataset(Dataset):\n",
        "    def __init__(self, X, y = None):\n",
        "        self.X = X\n",
        "        if y is not None:\n",
        "            self.y = y\n",
        "        else:\n",
        "            self.y = None\n",
        "\n",
        "    def __len__(self):\n",
        "        return len(self.X)\n",
        "\n",
        "    def __getitem__(self, idx):\n",
        "        if self.y is not None:\n",
        "            return self.X[idx], self.y[idx]\n",
        "        else:\n",
        "            return self.X[idx]\n",
        "\n",
        "class CarPriceTwoLayerModel(nn.Module):\n",
        "    def __init__(self, input_size, output_size, intermediate_dim = 10):\n",
        "        super().__init__()\n",
        "        self.linear1 = nn.Linear(input_size, intermediate_dim)\n",
        "        self.linear2 = nn.Linear(intermediate_dim, output_size)\n",
        "        self.relu = nn.ReLU()\n",
        "\n",
        "    def forward(self, x):\n",
        "        x = self.linear1(x)\n",
        "        x = self.relu(x)\n",
        "        x = self.linear2(x)\n",
        "        return x\n",
        "\n",
        "# Load model\n",
        "pred_model = CarPriceTwoLayerModel(138, 1)\n",
        "pred_model.load_state_dict(torch.load(\"trained_models/carprice_two_layer_model_mse_00015.pth\"))\n",
        "\n",
        "# Load one-hot encoder and scaler\n",
        "ohe = joblib.load(\"trained_models/one_hot_encoder.joblib\")\n",
        "year_scaler = joblib.load(\"trained_models/year_scaler.joblib\")\n",
        "mileage_scaler = joblib.load(\"trained_models/mileage_scaler.joblib\")\n",
        "price_scaler = joblib.load(\"trained_models/price_scaler.joblib\")"
      ],
      "metadata": {
        "id": "wlz19boy70MO"
      },
      "execution_count": null,
      "outputs": []
    },
    {
      "cell_type": "code",
      "source": [
        "CAT_COLUMNS = [\"Brand\", \"Model\", \"Engine\", \"Segment\", \"Province\", \"Color\"]\n",
        "\n",
        "def predict(model, data_loader):\n",
        "    model.eval()\n",
        "    y_pred_list = []\n",
        "    for x in data_loader:\n",
        "        y_pred = model(x.float())\n",
        "        prediction = y_pred.detach().numpy()\n",
        "        y_pred_list.extend(prediction)\n",
        "    y_pred_list = np.concatenate(y_pred_list)\n",
        "    return y_pred_list\n",
        "\n",
        "\n",
        "def predict_car_price(\n",
        "    brand: str, model: str, engine: float, segment: str, province: str,\n",
        "    color: str, year: float, mileage: float\n",
        "):\n",
        "    df = pd.DataFrame([{\n",
        "      \"Brand\": brand,\n",
        "      \"Model\": model,\n",
        "      \"Engine\": engine,\n",
        "      \"Segment\": segment,\n",
        "      \"Province\": province,\n",
        "      \"Color\": color,\n",
        "      \"Year\": year,\n",
        "      \"Mileage\": mileage,\n",
        "    }])\n",
        "    features = np.hstack([\n",
        "        ohe.transform(df[CAT_COLUMNS]),\n",
        "        year_scaler.transform(df[[\"Year\"]]),\n",
        "        mileage_scaler.transform(df[[\"Mileage\"]])\n",
        "    ])\n",
        "    feat_dataset = CarPriceDataset(features)\n",
        "    dataloaders = DataLoader(feat_dataset, batch_size=32, shuffle=False)\n",
        "    y_pred_lr = predict(pred_model, dataloaders)\n",
        "    return int(price_scaler.inverse_transform(y_pred_lr.reshape(-1, 1)).ravel()[0])"
      ],
      "metadata": {
        "id": "F1Aev_rU720c"
      },
      "execution_count": null,
      "outputs": []
    },
    {
      "cell_type": "code",
      "source": [
        "brands = [\n",
        "  'Toyota', 'Honda', 'Mazda', 'Mitsubishi',\n",
        "  'Nissan', 'Suzuki'\n",
        "]\n",
        "models = [\n",
        "  'Vios', 'Altis', 'Civic', 'Mazda3', 'Camry',\n",
        "  'Mirage', 'Brio', 'Lancer Ex', 'Jazz', 'Accord',\n",
        "  'Lancer', 'Yaris', 'Almera', 'City', 'Swift', 'Mazda2',\n",
        "  'Teana', 'Note', 'Celerio', 'March', 'Tiida', 'Prius',\n",
        "  'Ciaz', 'Sylphy', 'Pulsar', 'Attrage', 'Sunny'\n",
        "]\n",
        "engines = [\n",
        "  1.5, 1.8, 1.7, 2.0, 1.2, 1.6, 2.4,\n",
        "  2.5, 1.0, 1.3, 2.3, 3.0, 2.2\n",
        "]\n",
        "segments = ['B-Segment', 'C-Segment', 'D-Segment', 'Eco Car']\n",
        "provinces = [\n",
        "  'สงขลา', 'กรุงเทพมหานคร', 'สระบุรี', 'ชัยนาท', 'ระยอง', 'นครสวรรค์',\n",
        "  'นนทบุรี', 'ตาก', 'สมุทรสาคร', 'เชียงใหม่', 'ลำปาง', 'สุพรรณบุรี', 'เชียงราย',\n",
        "  'เพชรบุรี', 'พิษณุโลก', 'นครปฐม', 'อุดรธานี', 'สมุทรปราการ', 'ปทุมธานี',\n",
        "  'นครราชสีมา', 'ชลบุรี', 'ปัตตานี', 'ราชบุรี', 'ลำพูน', 'กระบี่', 'ฉะเชิงเทรา',\n",
        "  'พัทลุง', 'อ่างทอง', 'ขอนแก่น', 'ปราจีนบุรี', 'สุราษฎร์ธานี', 'ภูเก็ต',\n",
        "  'หนองบัวลำภู', 'พิจิตร', 'พะเยา', 'ตราด', 'นครศรีธรรมราช', 'บุรีรัมย์',\n",
        "  'ลพบุรี', 'อุตรดิตถ์', 'ยโสธร', 'อุบลราชธานี', 'สิงห์บุรี', 'พระนครศรีอยุธยา',\n",
        "  'กาฬสินธุ์', 'สกลนคร', 'ร้อยเอ็ด', 'ระนอง', 'นครพนม', 'อุทัยธานี', 'จันทบุรี',\n",
        "  'มหาสารคาม', 'กาญจนบุรี', 'แพร่', 'บึงกาฬ', 'กำแพงเพชร', 'สมุทรสงคราม',\n",
        "  'สุโขทัย', 'ตรัง', 'แม่ฮ่องสอน', 'อำนาจเจริญ', 'นครนายก', 'ชัยภูมิ', 'พังงา',\n",
        "  'สระแก้ว', 'สุรินทร์', 'นราธิวาส', 'สตูล', 'ประจวบคีรีขันธ์', 'เพชรบูรณ์', 'ศรีสะเกษ',\n",
        "  'หนองคาย', 'ยะลา', 'น่าน'\n",
        "]\n",
        "colors = ['Gray', 'Black', 'Gold', 'Silver', 'Brown', 'White',\n",
        "          'Red', 'Yellow', 'Blue', 'Green', 'Cyan', 'Orange']"
      ],
      "metadata": {
        "id": "sVoJEHkJ76Yi"
      },
      "execution_count": null,
      "outputs": []
    },
    {
      "cell_type": "code",
      "source": [
        "# ตัวอย่างของข้อมูล\n",
        "examples = [\n",
        "  ['Honda', 'Civic', 1.8, 'C-Segment', 'ตรัง', 'Gray', 2009, 185477.0],\n",
        "  ['Honda', 'Accord', 2.4, 'D-Segment', 'ขอนแก่น', 'Black', 2003, 166508.0],\n",
        "  ['Honda', 'Jazz', 1.5, 'B-Segment', 'กรุงเทพมหานคร', 'White', 2011, 62000.0],\n",
        "  ['Honda', 'Civic', 1.8, 'C-Segment', 'พระนครศรีอยุธยา', 'White', 2012, 165346.0],\n",
        "  ['Suzuki', 'Swift', 1.2, 'Eco Car', 'กรุงเทพมหานคร', 'White', 2016, 193000.0],\n",
        "  ['Honda', 'City', 1.0, 'B-Segment', 'กรุงเทพมหานคร', 'Gray', 2020, 29000.0],\n",
        "  ['Honda', 'City', 1.5, 'B-Segment', 'พิษณุโลก', 'Gray', 2007, 126208.0],\n",
        "  ['Toyota', 'Yaris', 1.5, 'Eco Car', 'เชียงใหม่', 'White', 2013, 100000.0],\n",
        "  ['Toyota', 'Altis', 1.6, 'C-Segment', 'กรุงเทพมหานคร', 'Silver', 2009, 260000.0],\n",
        "  ['Honda', 'Civic', 1.8, 'C-Segment', 'กรุงเทพมหานคร', 'Silver', 2006, 232433.0],\n",
        "]\n",
        "\n",
        "interface = gr.Interface(\n",
        "    fn=predict_car_price,\n",
        "    inputs=[\n",
        "      gr.Dropdown(brands, label=\"Brand\", info=\"Select Car Brand\"),\n",
        "      gr.Dropdown(models, label=\"Model\", info=\"Select Car Model\"),\n",
        "      gr.Dropdown(engines, label=\"Engine Size\", info=\"Select Engine Size\"),\n",
        "      gr.Dropdown(segments, label=\"Car segment\", info=\"Select Car Segment\"),\n",
        "      gr.Dropdown(provinces, label=\"Province\", info=\"Select Province\"),\n",
        "      gr.Dropdown(colors, label=\"Color\", info=\"Select Color\"),\n",
        "      gr.Slider(1990, 2023, label=\"Year\", info=\"Select Year\"),\n",
        "      gr.Slider(0, 400000, label=\"Mileage\", info=\"Select Mileage\"),\n",
        "    ],\n",
        "    outputs=gr.Textbox(label=\"ราคาทำนาย (บาท)\", placeholder=\"xxx,xxx (บาท)\"),\n",
        "    examples=examples,\n",
        "    title=\"ทำนายราคารถมือสอง\",\n",
        "    description=\"ตัวอย่างแอพพลิเคชั่นสำหรับคำนวณราคารถมือสอง\",\n",
        ")\n",
        "interface.launch()"
      ],
      "metadata": {
        "id": "cfPXEe6Y77Pl"
      },
      "execution_count": null,
      "outputs": []
    }
  ]
}