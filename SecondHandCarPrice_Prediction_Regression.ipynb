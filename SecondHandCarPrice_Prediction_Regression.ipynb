{
  "nbformat": 4,
  "nbformat_minor": 0,
  "metadata": {
    "colab": {
      "provenance": [],
      "authorship_tag": "ABX9TyNJv18+Hoksg0+005Sbg9fv",
      "include_colab_link": true
    },
    "kernelspec": {
      "name": "python3",
      "display_name": "Python 3"
    },
    "language_info": {
      "name": "python"
    }
  },
  "cells": [
    {
      "cell_type": "markdown",
      "metadata": {
        "id": "view-in-github",
        "colab_type": "text"
      },
      "source": [
        "<a href=\"https://colab.research.google.com/github/PraeJi/SecondHandCarPrice_Regression/blob/main/SecondHandCarPrice_Prediction_Regression.ipynb\" target=\"_parent\"><img src=\"https://colab.research.google.com/assets/colab-badge.svg\" alt=\"Open In Colab\"/></a>"
      ]
    },
    {
      "cell_type": "markdown",
      "source": [
        "- Import libraries\n",
        "- Prepare data: Categorical and numerical features\n",
        "- Train linear regression model\n",
        "- Train one-layer neural network model for regression (equivalent to linear regression)\n",
        "- Train multi-layer neural network model for regression"
      ],
      "metadata": {
        "id": "2WY7WhaSVyaV"
      }
    },
    {
      "cell_type": "code",
      "source": [
        "import os\n",
        "import os.path as op\n",
        "\n",
        "import pandas as pd\n",
        "import numpy as np\n",
        "from tqdm.auto import tqdm\n",
        "import matplotlib.pyplot as plt\n",
        "\n",
        "import torch\n",
        "import torch.nn as nn\n",
        "import torch.nn.functional as F\n",
        "\n",
        "from sklearn.linear_model import LinearRegression\n",
        "from sklearn.model_selection import train_test_split\n",
        "from sklearn.preprocessing import OneHotEncoder, MinMaxScaler\n",
        "from sklearn.metrics import mean_squared_error\n",
        "import joblib"
      ],
      "metadata": {
        "id": "vZR72lrvVx99"
      },
      "execution_count": 1,
      "outputs": []
    },
    {
      "cell_type": "markdown",
      "source": [
        "# Data Preparation"
      ],
      "metadata": {
        "id": "XYzoRSlmXsYL"
      }
    },
    {
      "cell_type": "markdown",
      "source": [
        "- Download data from https://github.com/biodatlab/deep-learning-skooldio\n",
        "- Clean and split data"
      ],
      "metadata": {
        "id": "UWwoI_aKXw0i"
      }
    },
    {
      "cell_type": "code",
      "source": [
        "!git clone https://github.com/biodatlab/deep-learning-skooldio"
      ],
      "metadata": {
        "colab": {
          "base_uri": "https://localhost:8080/"
        },
        "id": "y0N7mR6-Xjc3",
        "outputId": "7d6aa077-dc92-4830-846b-6d789d92171b"
      },
      "execution_count": 2,
      "outputs": [
        {
          "output_type": "stream",
          "name": "stdout",
          "text": [
            "Cloning into 'deep-learning-skooldio'...\n",
            "remote: Enumerating objects: 2064, done.\u001b[K\n",
            "remote: Counting objects: 100% (358/358), done.\u001b[K\n",
            "remote: Compressing objects: 100% (223/223), done.\u001b[K\n",
            "remote: Total 2064 (delta 194), reused 253 (delta 129), pack-reused 1706 (from 1)\u001b[K\n",
            "Receiving objects: 100% (2064/2064), 17.11 MiB | 9.35 MiB/s, done.\n",
            "Resolving deltas: 100% (205/205), done.\n",
            "Updating files: 100% (1795/1795), done.\n"
          ]
        }
      ]
    },
    {
      "cell_type": "code",
      "source": [
        "df = pd.read_csv(op.join('deep-learning-skooldio','rodkaidee-dataset','Rodkaidee Data.csv'))\n",
        "df.head(5)"
      ],
      "metadata": {
        "colab": {
          "base_uri": "https://localhost:8080/",
          "height": 206
        },
        "id": "FCUhq0Y7X7Y9",
        "outputId": "49fee5e9-d974-44a9-82af-8a24ca5e3134"
      },
      "execution_count": 3,
      "outputs": [
        {
          "output_type": "execute_result",
          "data": {
            "text/plain": [
              "        Brand    Model  Engine    Segment  Year Mileage       Province  \\\n",
              "0       Mazda   Mazda2     1.3  B-Segment  2022  15,640  กรุงเทพมหานคร   \n",
              "1      Suzuki  Celerio     1.0    Eco Car  2021   9,545  กรุงเทพมหานคร   \n",
              "2  Mitsubishi   Mirage     1.2    Eco Car  2021  10,900        นนทบุรี   \n",
              "3      Nissan    March     1.2    Eco Car  2021  12,000  กรุงเทพมหานคร   \n",
              "4  Mitsubishi  Attrage     1.2    Eco Car  2021  25,706      กาญจนบุรี   \n",
              "\n",
              "     Price   Color  \n",
              "0  499,000    Gray  \n",
              "1  315,000   White  \n",
              "2  335,000    Gray  \n",
              "3  339,000  Silver  \n",
              "4  350,000    Gray  "
            ],
            "text/html": [
              "\n",
              "  <div id=\"df-0e5c7088-ea8f-4471-8718-8a4aafcc23df\" class=\"colab-df-container\">\n",
              "    <div>\n",
              "<style scoped>\n",
              "    .dataframe tbody tr th:only-of-type {\n",
              "        vertical-align: middle;\n",
              "    }\n",
              "\n",
              "    .dataframe tbody tr th {\n",
              "        vertical-align: top;\n",
              "    }\n",
              "\n",
              "    .dataframe thead th {\n",
              "        text-align: right;\n",
              "    }\n",
              "</style>\n",
              "<table border=\"1\" class=\"dataframe\">\n",
              "  <thead>\n",
              "    <tr style=\"text-align: right;\">\n",
              "      <th></th>\n",
              "      <th>Brand</th>\n",
              "      <th>Model</th>\n",
              "      <th>Engine</th>\n",
              "      <th>Segment</th>\n",
              "      <th>Year</th>\n",
              "      <th>Mileage</th>\n",
              "      <th>Province</th>\n",
              "      <th>Price</th>\n",
              "      <th>Color</th>\n",
              "    </tr>\n",
              "  </thead>\n",
              "  <tbody>\n",
              "    <tr>\n",
              "      <th>0</th>\n",
              "      <td>Mazda</td>\n",
              "      <td>Mazda2</td>\n",
              "      <td>1.3</td>\n",
              "      <td>B-Segment</td>\n",
              "      <td>2022</td>\n",
              "      <td>15,640</td>\n",
              "      <td>กรุงเทพมหานคร</td>\n",
              "      <td>499,000</td>\n",
              "      <td>Gray</td>\n",
              "    </tr>\n",
              "    <tr>\n",
              "      <th>1</th>\n",
              "      <td>Suzuki</td>\n",
              "      <td>Celerio</td>\n",
              "      <td>1.0</td>\n",
              "      <td>Eco Car</td>\n",
              "      <td>2021</td>\n",
              "      <td>9,545</td>\n",
              "      <td>กรุงเทพมหานคร</td>\n",
              "      <td>315,000</td>\n",
              "      <td>White</td>\n",
              "    </tr>\n",
              "    <tr>\n",
              "      <th>2</th>\n",
              "      <td>Mitsubishi</td>\n",
              "      <td>Mirage</td>\n",
              "      <td>1.2</td>\n",
              "      <td>Eco Car</td>\n",
              "      <td>2021</td>\n",
              "      <td>10,900</td>\n",
              "      <td>นนทบุรี</td>\n",
              "      <td>335,000</td>\n",
              "      <td>Gray</td>\n",
              "    </tr>\n",
              "    <tr>\n",
              "      <th>3</th>\n",
              "      <td>Nissan</td>\n",
              "      <td>March</td>\n",
              "      <td>1.2</td>\n",
              "      <td>Eco Car</td>\n",
              "      <td>2021</td>\n",
              "      <td>12,000</td>\n",
              "      <td>กรุงเทพมหานคร</td>\n",
              "      <td>339,000</td>\n",
              "      <td>Silver</td>\n",
              "    </tr>\n",
              "    <tr>\n",
              "      <th>4</th>\n",
              "      <td>Mitsubishi</td>\n",
              "      <td>Attrage</td>\n",
              "      <td>1.2</td>\n",
              "      <td>Eco Car</td>\n",
              "      <td>2021</td>\n",
              "      <td>25,706</td>\n",
              "      <td>กาญจนบุรี</td>\n",
              "      <td>350,000</td>\n",
              "      <td>Gray</td>\n",
              "    </tr>\n",
              "  </tbody>\n",
              "</table>\n",
              "</div>\n",
              "    <div class=\"colab-df-buttons\">\n",
              "\n",
              "  <div class=\"colab-df-container\">\n",
              "    <button class=\"colab-df-convert\" onclick=\"convertToInteractive('df-0e5c7088-ea8f-4471-8718-8a4aafcc23df')\"\n",
              "            title=\"Convert this dataframe to an interactive table.\"\n",
              "            style=\"display:none;\">\n",
              "\n",
              "  <svg xmlns=\"http://www.w3.org/2000/svg\" height=\"24px\" viewBox=\"0 -960 960 960\">\n",
              "    <path d=\"M120-120v-720h720v720H120Zm60-500h600v-160H180v160Zm220 220h160v-160H400v160Zm0 220h160v-160H400v160ZM180-400h160v-160H180v160Zm440 0h160v-160H620v160ZM180-180h160v-160H180v160Zm440 0h160v-160H620v160Z\"/>\n",
              "  </svg>\n",
              "    </button>\n",
              "\n",
              "  <style>\n",
              "    .colab-df-container {\n",
              "      display:flex;\n",
              "      gap: 12px;\n",
              "    }\n",
              "\n",
              "    .colab-df-convert {\n",
              "      background-color: #E8F0FE;\n",
              "      border: none;\n",
              "      border-radius: 50%;\n",
              "      cursor: pointer;\n",
              "      display: none;\n",
              "      fill: #1967D2;\n",
              "      height: 32px;\n",
              "      padding: 0 0 0 0;\n",
              "      width: 32px;\n",
              "    }\n",
              "\n",
              "    .colab-df-convert:hover {\n",
              "      background-color: #E2EBFA;\n",
              "      box-shadow: 0px 1px 2px rgba(60, 64, 67, 0.3), 0px 1px 3px 1px rgba(60, 64, 67, 0.15);\n",
              "      fill: #174EA6;\n",
              "    }\n",
              "\n",
              "    .colab-df-buttons div {\n",
              "      margin-bottom: 4px;\n",
              "    }\n",
              "\n",
              "    [theme=dark] .colab-df-convert {\n",
              "      background-color: #3B4455;\n",
              "      fill: #D2E3FC;\n",
              "    }\n",
              "\n",
              "    [theme=dark] .colab-df-convert:hover {\n",
              "      background-color: #434B5C;\n",
              "      box-shadow: 0px 1px 3px 1px rgba(0, 0, 0, 0.15);\n",
              "      filter: drop-shadow(0px 1px 2px rgba(0, 0, 0, 0.3));\n",
              "      fill: #FFFFFF;\n",
              "    }\n",
              "  </style>\n",
              "\n",
              "    <script>\n",
              "      const buttonEl =\n",
              "        document.querySelector('#df-0e5c7088-ea8f-4471-8718-8a4aafcc23df button.colab-df-convert');\n",
              "      buttonEl.style.display =\n",
              "        google.colab.kernel.accessAllowed ? 'block' : 'none';\n",
              "\n",
              "      async function convertToInteractive(key) {\n",
              "        const element = document.querySelector('#df-0e5c7088-ea8f-4471-8718-8a4aafcc23df');\n",
              "        const dataTable =\n",
              "          await google.colab.kernel.invokeFunction('convertToInteractive',\n",
              "                                                    [key], {});\n",
              "        if (!dataTable) return;\n",
              "\n",
              "        const docLinkHtml = 'Like what you see? Visit the ' +\n",
              "          '<a target=\"_blank\" href=https://colab.research.google.com/notebooks/data_table.ipynb>data table notebook</a>'\n",
              "          + ' to learn more about interactive tables.';\n",
              "        element.innerHTML = '';\n",
              "        dataTable['output_type'] = 'display_data';\n",
              "        await google.colab.output.renderOutput(dataTable, element);\n",
              "        const docLink = document.createElement('div');\n",
              "        docLink.innerHTML = docLinkHtml;\n",
              "        element.appendChild(docLink);\n",
              "      }\n",
              "    </script>\n",
              "  </div>\n",
              "\n",
              "\n",
              "<div id=\"df-e8c3ce69-0956-4ffe-8b55-078e0d4f89c5\">\n",
              "  <button class=\"colab-df-quickchart\" onclick=\"quickchart('df-e8c3ce69-0956-4ffe-8b55-078e0d4f89c5')\"\n",
              "            title=\"Suggest charts\"\n",
              "            style=\"display:none;\">\n",
              "\n",
              "<svg xmlns=\"http://www.w3.org/2000/svg\" height=\"24px\"viewBox=\"0 0 24 24\"\n",
              "     width=\"24px\">\n",
              "    <g>\n",
              "        <path d=\"M19 3H5c-1.1 0-2 .9-2 2v14c0 1.1.9 2 2 2h14c1.1 0 2-.9 2-2V5c0-1.1-.9-2-2-2zM9 17H7v-7h2v7zm4 0h-2V7h2v10zm4 0h-2v-4h2v4z\"/>\n",
              "    </g>\n",
              "</svg>\n",
              "  </button>\n",
              "\n",
              "<style>\n",
              "  .colab-df-quickchart {\n",
              "      --bg-color: #E8F0FE;\n",
              "      --fill-color: #1967D2;\n",
              "      --hover-bg-color: #E2EBFA;\n",
              "      --hover-fill-color: #174EA6;\n",
              "      --disabled-fill-color: #AAA;\n",
              "      --disabled-bg-color: #DDD;\n",
              "  }\n",
              "\n",
              "  [theme=dark] .colab-df-quickchart {\n",
              "      --bg-color: #3B4455;\n",
              "      --fill-color: #D2E3FC;\n",
              "      --hover-bg-color: #434B5C;\n",
              "      --hover-fill-color: #FFFFFF;\n",
              "      --disabled-bg-color: #3B4455;\n",
              "      --disabled-fill-color: #666;\n",
              "  }\n",
              "\n",
              "  .colab-df-quickchart {\n",
              "    background-color: var(--bg-color);\n",
              "    border: none;\n",
              "    border-radius: 50%;\n",
              "    cursor: pointer;\n",
              "    display: none;\n",
              "    fill: var(--fill-color);\n",
              "    height: 32px;\n",
              "    padding: 0;\n",
              "    width: 32px;\n",
              "  }\n",
              "\n",
              "  .colab-df-quickchart:hover {\n",
              "    background-color: var(--hover-bg-color);\n",
              "    box-shadow: 0 1px 2px rgba(60, 64, 67, 0.3), 0 1px 3px 1px rgba(60, 64, 67, 0.15);\n",
              "    fill: var(--button-hover-fill-color);\n",
              "  }\n",
              "\n",
              "  .colab-df-quickchart-complete:disabled,\n",
              "  .colab-df-quickchart-complete:disabled:hover {\n",
              "    background-color: var(--disabled-bg-color);\n",
              "    fill: var(--disabled-fill-color);\n",
              "    box-shadow: none;\n",
              "  }\n",
              "\n",
              "  .colab-df-spinner {\n",
              "    border: 2px solid var(--fill-color);\n",
              "    border-color: transparent;\n",
              "    border-bottom-color: var(--fill-color);\n",
              "    animation:\n",
              "      spin 1s steps(1) infinite;\n",
              "  }\n",
              "\n",
              "  @keyframes spin {\n",
              "    0% {\n",
              "      border-color: transparent;\n",
              "      border-bottom-color: var(--fill-color);\n",
              "      border-left-color: var(--fill-color);\n",
              "    }\n",
              "    20% {\n",
              "      border-color: transparent;\n",
              "      border-left-color: var(--fill-color);\n",
              "      border-top-color: var(--fill-color);\n",
              "    }\n",
              "    30% {\n",
              "      border-color: transparent;\n",
              "      border-left-color: var(--fill-color);\n",
              "      border-top-color: var(--fill-color);\n",
              "      border-right-color: var(--fill-color);\n",
              "    }\n",
              "    40% {\n",
              "      border-color: transparent;\n",
              "      border-right-color: var(--fill-color);\n",
              "      border-top-color: var(--fill-color);\n",
              "    }\n",
              "    60% {\n",
              "      border-color: transparent;\n",
              "      border-right-color: var(--fill-color);\n",
              "    }\n",
              "    80% {\n",
              "      border-color: transparent;\n",
              "      border-right-color: var(--fill-color);\n",
              "      border-bottom-color: var(--fill-color);\n",
              "    }\n",
              "    90% {\n",
              "      border-color: transparent;\n",
              "      border-bottom-color: var(--fill-color);\n",
              "    }\n",
              "  }\n",
              "</style>\n",
              "\n",
              "  <script>\n",
              "    async function quickchart(key) {\n",
              "      const quickchartButtonEl =\n",
              "        document.querySelector('#' + key + ' button');\n",
              "      quickchartButtonEl.disabled = true;  // To prevent multiple clicks.\n",
              "      quickchartButtonEl.classList.add('colab-df-spinner');\n",
              "      try {\n",
              "        const charts = await google.colab.kernel.invokeFunction(\n",
              "            'suggestCharts', [key], {});\n",
              "      } catch (error) {\n",
              "        console.error('Error during call to suggestCharts:', error);\n",
              "      }\n",
              "      quickchartButtonEl.classList.remove('colab-df-spinner');\n",
              "      quickchartButtonEl.classList.add('colab-df-quickchart-complete');\n",
              "    }\n",
              "    (() => {\n",
              "      let quickchartButtonEl =\n",
              "        document.querySelector('#df-e8c3ce69-0956-4ffe-8b55-078e0d4f89c5 button');\n",
              "      quickchartButtonEl.style.display =\n",
              "        google.colab.kernel.accessAllowed ? 'block' : 'none';\n",
              "    })();\n",
              "  </script>\n",
              "</div>\n",
              "\n",
              "    </div>\n",
              "  </div>\n"
            ],
            "application/vnd.google.colaboratory.intrinsic+json": {
              "type": "dataframe",
              "variable_name": "df",
              "summary": "{\n  \"name\": \"df\",\n  \"rows\": 7396,\n  \"fields\": [\n    {\n      \"column\": \"Brand\",\n      \"properties\": {\n        \"dtype\": \"category\",\n        \"num_unique_values\": 6,\n        \"samples\": [\n          \"Mazda\",\n          \"Suzuki\",\n          \"Honda\"\n        ],\n        \"semantic_type\": \"\",\n        \"description\": \"\"\n      }\n    },\n    {\n      \"column\": \"Model\",\n      \"properties\": {\n        \"dtype\": \"category\",\n        \"num_unique_values\": 27,\n        \"samples\": [\n          \"Yaris\",\n          \"Mazda3\",\n          \"Note\"\n        ],\n        \"semantic_type\": \"\",\n        \"description\": \"\"\n      }\n    },\n    {\n      \"column\": \"Engine\",\n      \"properties\": {\n        \"dtype\": \"number\",\n        \"std\": 0.3503917999163818,\n        \"min\": 1.0,\n        \"max\": 3.0,\n        \"num_unique_values\": 13,\n        \"samples\": [\n          1.7,\n          2.3,\n          1.3\n        ],\n        \"semantic_type\": \"\",\n        \"description\": \"\"\n      }\n    },\n    {\n      \"column\": \"Segment\",\n      \"properties\": {\n        \"dtype\": \"category\",\n        \"num_unique_values\": 4,\n        \"samples\": [\n          \"Eco Car\",\n          \"D-Segment\",\n          \"B-Segment\"\n        ],\n        \"semantic_type\": \"\",\n        \"description\": \"\"\n      }\n    },\n    {\n      \"column\": \"Year\",\n      \"properties\": {\n        \"dtype\": \"number\",\n        \"std\": 4,\n        \"min\": 2000,\n        \"max\": 2022,\n        \"num_unique_values\": 23,\n        \"samples\": [\n          2007,\n          2013,\n          2022\n        ],\n        \"semantic_type\": \"\",\n        \"description\": \"\"\n      }\n    },\n    {\n      \"column\": \"Mileage\",\n      \"properties\": {\n        \"dtype\": \"category\",\n        \"num_unique_values\": 2210,\n        \"samples\": [\n          \"56,523\",\n          \"118,319\",\n          \"115,098\"\n        ],\n        \"semantic_type\": \"\",\n        \"description\": \"\"\n      }\n    },\n    {\n      \"column\": \"Province\",\n      \"properties\": {\n        \"dtype\": \"category\",\n        \"num_unique_values\": 74,\n        \"samples\": [\n          \"\\u0e40\\u0e0a\\u0e35\\u0e22\\u0e07\\u0e43\\u0e2b\\u0e21\\u0e48\",\n          \"\\u0e2a\\u0e38\\u0e23\\u0e34\\u0e19\\u0e17\\u0e23\\u0e4c\",\n          \"\\u0e1e\\u0e23\\u0e30\\u0e19\\u0e04\\u0e23\\u0e28\\u0e23\\u0e35\\u0e2d\\u0e22\\u0e38\\u0e18\\u0e22\\u0e32\"\n        ],\n        \"semantic_type\": \"\",\n        \"description\": \"\"\n      }\n    },\n    {\n      \"column\": \"Price\",\n      \"properties\": {\n        \"dtype\": \"category\",\n        \"num_unique_values\": 635,\n        \"samples\": [\n          \"140,000\",\n          \"318,888\",\n          \"218,000\"\n        ],\n        \"semantic_type\": \"\",\n        \"description\": \"\"\n      }\n    },\n    {\n      \"column\": \"Color\",\n      \"properties\": {\n        \"dtype\": \"category\",\n        \"num_unique_values\": 12,\n        \"samples\": [\n          \"Orange\",\n          \"Green\",\n          \"Gray\"\n        ],\n        \"semantic_type\": \"\",\n        \"description\": \"\"\n      }\n    }\n  ]\n}"
            }
          },
          "metadata": {},
          "execution_count": 3
        }
      ]
    },
    {
      "cell_type": "code",
      "source": [
        "df.shape"
      ],
      "metadata": {
        "colab": {
          "base_uri": "https://localhost:8080/"
        },
        "id": "D_LNTbOSCrV9",
        "outputId": "14678d6b-6da2-45a2-89dc-2542e37a29e3"
      },
      "execution_count": 4,
      "outputs": [
        {
          "output_type": "execute_result",
          "data": {
            "text/plain": [
              "(7396, 9)"
            ]
          },
          "metadata": {},
          "execution_count": 4
        }
      ]
    },
    {
      "cell_type": "markdown",
      "source": [
        "# Clean and Split data"
      ],
      "metadata": {
        "id": "w12Po8X9Yes5"
      }
    },
    {
      "cell_type": "code",
      "source": [
        "import os.path as op\n",
        "\n",
        "# Clean price and mileage from string to float\n",
        "df['Mileage'] = df['Mileage'].apply(lambda x: float(x.replace(',','')))\n",
        "df['Price'] = df['Price'].apply(lambda x: float(x.replace(',','')))\n",
        "\n",
        "# Split dataset using `train_test_split` to 80% train and 20% test\n",
        "df_train, df_val = train_test_split(df, test_size=0.2, random_state=42)"
      ],
      "metadata": {
        "id": "sO3qLpRVYiqZ"
      },
      "execution_count": 5,
      "outputs": []
    },
    {
      "cell_type": "code",
      "source": [
        "df_train.head(5)"
      ],
      "metadata": {
        "colab": {
          "base_uri": "https://localhost:8080/",
          "height": 206
        },
        "id": "qgDhfdOWZ4iy",
        "outputId": "04610d1e-eaf9-4157-92c2-53f94d4a1bd7"
      },
      "execution_count": 6,
      "outputs": [
        {
          "output_type": "execute_result",
          "data": {
            "text/plain": [
              "       Brand   Model  Engine    Segment  Year   Mileage       Province  \\\n",
              "6370  Toyota    Vios     1.5  B-Segment  2008  150000.0          สงขลา   \n",
              "3915  Toyota   Altis     1.8  C-Segment  2013  101266.0  กรุงเทพมหานคร   \n",
              "7194   Honda   Civic     1.7  C-Segment  2003  280000.0        สระบุรี   \n",
              "2318   Mazda  Mazda3     2.0  C-Segment  2016   74111.0  กรุงเทพมหานคร   \n",
              "6677  Toyota   Camry     2.0  D-Segment  2007  263489.0  กรุงเทพมหานคร   \n",
              "\n",
              "         Price   Color  \n",
              "6370  259000.0    Gray  \n",
              "3915  299000.0   Black  \n",
              "7194  119000.0    Gold  \n",
              "2318  430000.0  Silver  \n",
              "6677  288000.0   Brown  "
            ],
            "text/html": [
              "\n",
              "  <div id=\"df-e107df3f-8a43-4d84-944a-ec8c8c5338b4\" class=\"colab-df-container\">\n",
              "    <div>\n",
              "<style scoped>\n",
              "    .dataframe tbody tr th:only-of-type {\n",
              "        vertical-align: middle;\n",
              "    }\n",
              "\n",
              "    .dataframe tbody tr th {\n",
              "        vertical-align: top;\n",
              "    }\n",
              "\n",
              "    .dataframe thead th {\n",
              "        text-align: right;\n",
              "    }\n",
              "</style>\n",
              "<table border=\"1\" class=\"dataframe\">\n",
              "  <thead>\n",
              "    <tr style=\"text-align: right;\">\n",
              "      <th></th>\n",
              "      <th>Brand</th>\n",
              "      <th>Model</th>\n",
              "      <th>Engine</th>\n",
              "      <th>Segment</th>\n",
              "      <th>Year</th>\n",
              "      <th>Mileage</th>\n",
              "      <th>Province</th>\n",
              "      <th>Price</th>\n",
              "      <th>Color</th>\n",
              "    </tr>\n",
              "  </thead>\n",
              "  <tbody>\n",
              "    <tr>\n",
              "      <th>6370</th>\n",
              "      <td>Toyota</td>\n",
              "      <td>Vios</td>\n",
              "      <td>1.5</td>\n",
              "      <td>B-Segment</td>\n",
              "      <td>2008</td>\n",
              "      <td>150000.0</td>\n",
              "      <td>สงขลา</td>\n",
              "      <td>259000.0</td>\n",
              "      <td>Gray</td>\n",
              "    </tr>\n",
              "    <tr>\n",
              "      <th>3915</th>\n",
              "      <td>Toyota</td>\n",
              "      <td>Altis</td>\n",
              "      <td>1.8</td>\n",
              "      <td>C-Segment</td>\n",
              "      <td>2013</td>\n",
              "      <td>101266.0</td>\n",
              "      <td>กรุงเทพมหานคร</td>\n",
              "      <td>299000.0</td>\n",
              "      <td>Black</td>\n",
              "    </tr>\n",
              "    <tr>\n",
              "      <th>7194</th>\n",
              "      <td>Honda</td>\n",
              "      <td>Civic</td>\n",
              "      <td>1.7</td>\n",
              "      <td>C-Segment</td>\n",
              "      <td>2003</td>\n",
              "      <td>280000.0</td>\n",
              "      <td>สระบุรี</td>\n",
              "      <td>119000.0</td>\n",
              "      <td>Gold</td>\n",
              "    </tr>\n",
              "    <tr>\n",
              "      <th>2318</th>\n",
              "      <td>Mazda</td>\n",
              "      <td>Mazda3</td>\n",
              "      <td>2.0</td>\n",
              "      <td>C-Segment</td>\n",
              "      <td>2016</td>\n",
              "      <td>74111.0</td>\n",
              "      <td>กรุงเทพมหานคร</td>\n",
              "      <td>430000.0</td>\n",
              "      <td>Silver</td>\n",
              "    </tr>\n",
              "    <tr>\n",
              "      <th>6677</th>\n",
              "      <td>Toyota</td>\n",
              "      <td>Camry</td>\n",
              "      <td>2.0</td>\n",
              "      <td>D-Segment</td>\n",
              "      <td>2007</td>\n",
              "      <td>263489.0</td>\n",
              "      <td>กรุงเทพมหานคร</td>\n",
              "      <td>288000.0</td>\n",
              "      <td>Brown</td>\n",
              "    </tr>\n",
              "  </tbody>\n",
              "</table>\n",
              "</div>\n",
              "    <div class=\"colab-df-buttons\">\n",
              "\n",
              "  <div class=\"colab-df-container\">\n",
              "    <button class=\"colab-df-convert\" onclick=\"convertToInteractive('df-e107df3f-8a43-4d84-944a-ec8c8c5338b4')\"\n",
              "            title=\"Convert this dataframe to an interactive table.\"\n",
              "            style=\"display:none;\">\n",
              "\n",
              "  <svg xmlns=\"http://www.w3.org/2000/svg\" height=\"24px\" viewBox=\"0 -960 960 960\">\n",
              "    <path d=\"M120-120v-720h720v720H120Zm60-500h600v-160H180v160Zm220 220h160v-160H400v160Zm0 220h160v-160H400v160ZM180-400h160v-160H180v160Zm440 0h160v-160H620v160ZM180-180h160v-160H180v160Zm440 0h160v-160H620v160Z\"/>\n",
              "  </svg>\n",
              "    </button>\n",
              "\n",
              "  <style>\n",
              "    .colab-df-container {\n",
              "      display:flex;\n",
              "      gap: 12px;\n",
              "    }\n",
              "\n",
              "    .colab-df-convert {\n",
              "      background-color: #E8F0FE;\n",
              "      border: none;\n",
              "      border-radius: 50%;\n",
              "      cursor: pointer;\n",
              "      display: none;\n",
              "      fill: #1967D2;\n",
              "      height: 32px;\n",
              "      padding: 0 0 0 0;\n",
              "      width: 32px;\n",
              "    }\n",
              "\n",
              "    .colab-df-convert:hover {\n",
              "      background-color: #E2EBFA;\n",
              "      box-shadow: 0px 1px 2px rgba(60, 64, 67, 0.3), 0px 1px 3px 1px rgba(60, 64, 67, 0.15);\n",
              "      fill: #174EA6;\n",
              "    }\n",
              "\n",
              "    .colab-df-buttons div {\n",
              "      margin-bottom: 4px;\n",
              "    }\n",
              "\n",
              "    [theme=dark] .colab-df-convert {\n",
              "      background-color: #3B4455;\n",
              "      fill: #D2E3FC;\n",
              "    }\n",
              "\n",
              "    [theme=dark] .colab-df-convert:hover {\n",
              "      background-color: #434B5C;\n",
              "      box-shadow: 0px 1px 3px 1px rgba(0, 0, 0, 0.15);\n",
              "      filter: drop-shadow(0px 1px 2px rgba(0, 0, 0, 0.3));\n",
              "      fill: #FFFFFF;\n",
              "    }\n",
              "  </style>\n",
              "\n",
              "    <script>\n",
              "      const buttonEl =\n",
              "        document.querySelector('#df-e107df3f-8a43-4d84-944a-ec8c8c5338b4 button.colab-df-convert');\n",
              "      buttonEl.style.display =\n",
              "        google.colab.kernel.accessAllowed ? 'block' : 'none';\n",
              "\n",
              "      async function convertToInteractive(key) {\n",
              "        const element = document.querySelector('#df-e107df3f-8a43-4d84-944a-ec8c8c5338b4');\n",
              "        const dataTable =\n",
              "          await google.colab.kernel.invokeFunction('convertToInteractive',\n",
              "                                                    [key], {});\n",
              "        if (!dataTable) return;\n",
              "\n",
              "        const docLinkHtml = 'Like what you see? Visit the ' +\n",
              "          '<a target=\"_blank\" href=https://colab.research.google.com/notebooks/data_table.ipynb>data table notebook</a>'\n",
              "          + ' to learn more about interactive tables.';\n",
              "        element.innerHTML = '';\n",
              "        dataTable['output_type'] = 'display_data';\n",
              "        await google.colab.output.renderOutput(dataTable, element);\n",
              "        const docLink = document.createElement('div');\n",
              "        docLink.innerHTML = docLinkHtml;\n",
              "        element.appendChild(docLink);\n",
              "      }\n",
              "    </script>\n",
              "  </div>\n",
              "\n",
              "\n",
              "<div id=\"df-bc745bb7-d4d7-4606-9b1a-1c8bfd92b87d\">\n",
              "  <button class=\"colab-df-quickchart\" onclick=\"quickchart('df-bc745bb7-d4d7-4606-9b1a-1c8bfd92b87d')\"\n",
              "            title=\"Suggest charts\"\n",
              "            style=\"display:none;\">\n",
              "\n",
              "<svg xmlns=\"http://www.w3.org/2000/svg\" height=\"24px\"viewBox=\"0 0 24 24\"\n",
              "     width=\"24px\">\n",
              "    <g>\n",
              "        <path d=\"M19 3H5c-1.1 0-2 .9-2 2v14c0 1.1.9 2 2 2h14c1.1 0 2-.9 2-2V5c0-1.1-.9-2-2-2zM9 17H7v-7h2v7zm4 0h-2V7h2v10zm4 0h-2v-4h2v4z\"/>\n",
              "    </g>\n",
              "</svg>\n",
              "  </button>\n",
              "\n",
              "<style>\n",
              "  .colab-df-quickchart {\n",
              "      --bg-color: #E8F0FE;\n",
              "      --fill-color: #1967D2;\n",
              "      --hover-bg-color: #E2EBFA;\n",
              "      --hover-fill-color: #174EA6;\n",
              "      --disabled-fill-color: #AAA;\n",
              "      --disabled-bg-color: #DDD;\n",
              "  }\n",
              "\n",
              "  [theme=dark] .colab-df-quickchart {\n",
              "      --bg-color: #3B4455;\n",
              "      --fill-color: #D2E3FC;\n",
              "      --hover-bg-color: #434B5C;\n",
              "      --hover-fill-color: #FFFFFF;\n",
              "      --disabled-bg-color: #3B4455;\n",
              "      --disabled-fill-color: #666;\n",
              "  }\n",
              "\n",
              "  .colab-df-quickchart {\n",
              "    background-color: var(--bg-color);\n",
              "    border: none;\n",
              "    border-radius: 50%;\n",
              "    cursor: pointer;\n",
              "    display: none;\n",
              "    fill: var(--fill-color);\n",
              "    height: 32px;\n",
              "    padding: 0;\n",
              "    width: 32px;\n",
              "  }\n",
              "\n",
              "  .colab-df-quickchart:hover {\n",
              "    background-color: var(--hover-bg-color);\n",
              "    box-shadow: 0 1px 2px rgba(60, 64, 67, 0.3), 0 1px 3px 1px rgba(60, 64, 67, 0.15);\n",
              "    fill: var(--button-hover-fill-color);\n",
              "  }\n",
              "\n",
              "  .colab-df-quickchart-complete:disabled,\n",
              "  .colab-df-quickchart-complete:disabled:hover {\n",
              "    background-color: var(--disabled-bg-color);\n",
              "    fill: var(--disabled-fill-color);\n",
              "    box-shadow: none;\n",
              "  }\n",
              "\n",
              "  .colab-df-spinner {\n",
              "    border: 2px solid var(--fill-color);\n",
              "    border-color: transparent;\n",
              "    border-bottom-color: var(--fill-color);\n",
              "    animation:\n",
              "      spin 1s steps(1) infinite;\n",
              "  }\n",
              "\n",
              "  @keyframes spin {\n",
              "    0% {\n",
              "      border-color: transparent;\n",
              "      border-bottom-color: var(--fill-color);\n",
              "      border-left-color: var(--fill-color);\n",
              "    }\n",
              "    20% {\n",
              "      border-color: transparent;\n",
              "      border-left-color: var(--fill-color);\n",
              "      border-top-color: var(--fill-color);\n",
              "    }\n",
              "    30% {\n",
              "      border-color: transparent;\n",
              "      border-left-color: var(--fill-color);\n",
              "      border-top-color: var(--fill-color);\n",
              "      border-right-color: var(--fill-color);\n",
              "    }\n",
              "    40% {\n",
              "      border-color: transparent;\n",
              "      border-right-color: var(--fill-color);\n",
              "      border-top-color: var(--fill-color);\n",
              "    }\n",
              "    60% {\n",
              "      border-color: transparent;\n",
              "      border-right-color: var(--fill-color);\n",
              "    }\n",
              "    80% {\n",
              "      border-color: transparent;\n",
              "      border-right-color: var(--fill-color);\n",
              "      border-bottom-color: var(--fill-color);\n",
              "    }\n",
              "    90% {\n",
              "      border-color: transparent;\n",
              "      border-bottom-color: var(--fill-color);\n",
              "    }\n",
              "  }\n",
              "</style>\n",
              "\n",
              "  <script>\n",
              "    async function quickchart(key) {\n",
              "      const quickchartButtonEl =\n",
              "        document.querySelector('#' + key + ' button');\n",
              "      quickchartButtonEl.disabled = true;  // To prevent multiple clicks.\n",
              "      quickchartButtonEl.classList.add('colab-df-spinner');\n",
              "      try {\n",
              "        const charts = await google.colab.kernel.invokeFunction(\n",
              "            'suggestCharts', [key], {});\n",
              "      } catch (error) {\n",
              "        console.error('Error during call to suggestCharts:', error);\n",
              "      }\n",
              "      quickchartButtonEl.classList.remove('colab-df-spinner');\n",
              "      quickchartButtonEl.classList.add('colab-df-quickchart-complete');\n",
              "    }\n",
              "    (() => {\n",
              "      let quickchartButtonEl =\n",
              "        document.querySelector('#df-bc745bb7-d4d7-4606-9b1a-1c8bfd92b87d button');\n",
              "      quickchartButtonEl.style.display =\n",
              "        google.colab.kernel.accessAllowed ? 'block' : 'none';\n",
              "    })();\n",
              "  </script>\n",
              "</div>\n",
              "\n",
              "    </div>\n",
              "  </div>\n"
            ],
            "application/vnd.google.colaboratory.intrinsic+json": {
              "type": "dataframe",
              "variable_name": "df_train",
              "summary": "{\n  \"name\": \"df_train\",\n  \"rows\": 5916,\n  \"fields\": [\n    {\n      \"column\": \"Brand\",\n      \"properties\": {\n        \"dtype\": \"category\",\n        \"num_unique_values\": 6,\n        \"samples\": [\n          \"Toyota\",\n          \"Honda\",\n          \"Suzuki\"\n        ],\n        \"semantic_type\": \"\",\n        \"description\": \"\"\n      }\n    },\n    {\n      \"column\": \"Model\",\n      \"properties\": {\n        \"dtype\": \"category\",\n        \"num_unique_values\": 27,\n        \"samples\": [\n          \"Jazz\",\n          \"City\",\n          \"Accord\"\n        ],\n        \"semantic_type\": \"\",\n        \"description\": \"\"\n      }\n    },\n    {\n      \"column\": \"Engine\",\n      \"properties\": {\n        \"dtype\": \"number\",\n        \"std\": 0.3503387543297228,\n        \"min\": 1.0,\n        \"max\": 3.0,\n        \"num_unique_values\": 13,\n        \"samples\": [\n          3.0,\n          1.3,\n          1.5\n        ],\n        \"semantic_type\": \"\",\n        \"description\": \"\"\n      }\n    },\n    {\n      \"column\": \"Segment\",\n      \"properties\": {\n        \"dtype\": \"category\",\n        \"num_unique_values\": 4,\n        \"samples\": [\n          \"C-Segment\",\n          \"Eco Car\",\n          \"B-Segment\"\n        ],\n        \"semantic_type\": \"\",\n        \"description\": \"\"\n      }\n    },\n    {\n      \"column\": \"Year\",\n      \"properties\": {\n        \"dtype\": \"number\",\n        \"std\": 4,\n        \"min\": 2000,\n        \"max\": 2021,\n        \"num_unique_values\": 22,\n        \"samples\": [\n          2008,\n          2015,\n          2014\n        ],\n        \"semantic_type\": \"\",\n        \"description\": \"\"\n      }\n    },\n    {\n      \"column\": \"Mileage\",\n      \"properties\": {\n        \"dtype\": \"number\",\n        \"std\": 64774.745522744444,\n        \"min\": 1660.0,\n        \"max\": 590000.0,\n        \"num_unique_values\": 1854,\n        \"samples\": [\n          140827.0,\n          123884.0,\n          107106.0\n        ],\n        \"semantic_type\": \"\",\n        \"description\": \"\"\n      }\n    },\n    {\n      \"column\": \"Province\",\n      \"properties\": {\n        \"dtype\": \"category\",\n        \"num_unique_values\": 74,\n        \"samples\": [\n          \"\\u0e23\\u0e30\\u0e22\\u0e2d\\u0e07\",\n          \"\\u0e1e\\u0e31\\u0e07\\u0e07\\u0e32\",\n          \"\\u0e1b\\u0e17\\u0e38\\u0e21\\u0e18\\u0e32\\u0e19\\u0e35\"\n        ],\n        \"semantic_type\": \"\",\n        \"description\": \"\"\n      }\n    },\n    {\n      \"column\": \"Price\",\n      \"properties\": {\n        \"dtype\": \"number\",\n        \"std\": 187492.64598685259,\n        \"min\": 33000.0,\n        \"max\": 1420000.0,\n        \"num_unique_values\": 592,\n        \"samples\": [\n          378888.0,\n          598168.0,\n          95000.0\n        ],\n        \"semantic_type\": \"\",\n        \"description\": \"\"\n      }\n    },\n    {\n      \"column\": \"Color\",\n      \"properties\": {\n        \"dtype\": \"category\",\n        \"num_unique_values\": 12,\n        \"samples\": [\n          \"Cyan\",\n          \"Green\",\n          \"Gray\"\n        ],\n        \"semantic_type\": \"\",\n        \"description\": \"\"\n      }\n    }\n  ]\n}"
            }
          },
          "metadata": {},
          "execution_count": 6
        }
      ]
    },
    {
      "cell_type": "code",
      "source": [
        "# Check image size\n",
        "len(df_train), len(df_val)"
      ],
      "metadata": {
        "colab": {
          "base_uri": "https://localhost:8080/"
        },
        "id": "T_hBQwVSYpy6",
        "outputId": "de14d309-53f0-4854-f0dd-c4840a45b699"
      },
      "execution_count": 7,
      "outputs": [
        {
          "output_type": "execute_result",
          "data": {
            "text/plain": [
              "(5916, 1480)"
            ]
          },
          "metadata": {},
          "execution_count": 7
        }
      ]
    },
    {
      "cell_type": "markdown",
      "source": [
        "# Apply One-hot Encoding to categorical values"
      ],
      "metadata": {
        "id": "I9B1QJsSankU"
      }
    },
    {
      "cell_type": "code",
      "source": [
        "# Create one-hot encoder class using OneHotEncoder for transforming categorical columns in variable name ``ohe``\n",
        "CAT_COLUMN = [\"Brand\",\"Model\",\"Engine\",\"Segment\",\"Province\",\"Color\"] # list feature ที่เป็น category\n",
        "\n",
        "ohe = OneHotEncoder(handle_unknown='ignore', sparse_output=False) # แปลง dataframe ให้เป็น array //สร้าง instance ของ class OneHotEncoder\n",
        "cat_brand = ohe.fit_transform(df_train[['Brand']]) # แปลง column dataframe ที่เราต้องการ ให้เป็น one hot encoder // ทดลองทำ one hot encoder แค่ feature เดียว"
      ],
      "metadata": {
        "id": "JMu3VTPvaBSc"
      },
      "execution_count": 8,
      "outputs": []
    },
    {
      "cell_type": "code",
      "source": [
        "df.Brand.unique() # check value ของ Brand (ใช้ยูนีค)"
      ],
      "metadata": {
        "colab": {
          "base_uri": "https://localhost:8080/"
        },
        "id": "KKlUO9qHdFYs",
        "outputId": "3f64cfa5-ccce-4a0c-c135-03915f78b909"
      },
      "execution_count": 9,
      "outputs": [
        {
          "output_type": "execute_result",
          "data": {
            "text/plain": [
              "array(['Mazda', 'Suzuki', 'Mitsubishi', 'Nissan', 'Toyota', 'Honda'],\n",
              "      dtype=object)"
            ]
          },
          "metadata": {},
          "execution_count": 9
        }
      ]
    },
    {
      "cell_type": "code",
      "source": [
        "len(df.Brand.unique()) # check จำนวนของ Brand"
      ],
      "metadata": {
        "colab": {
          "base_uri": "https://localhost:8080/"
        },
        "id": "FUgNmnxqLyAS",
        "outputId": "5c7d25c4-d872-4435-ff75-c438c23439c8"
      },
      "execution_count": 10,
      "outputs": [
        {
          "output_type": "execute_result",
          "data": {
            "text/plain": [
              "6"
            ]
          },
          "metadata": {},
          "execution_count": 10
        }
      ]
    },
    {
      "cell_type": "code",
      "source": [
        "cat_brand"
      ],
      "metadata": {
        "colab": {
          "base_uri": "https://localhost:8080/"
        },
        "id": "TQQl_-qpc-AJ",
        "outputId": "4705a659-322a-4409-b0ac-8384e60db688"
      },
      "execution_count": 11,
      "outputs": [
        {
          "output_type": "execute_result",
          "data": {
            "text/plain": [
              "array([[0., 0., 0., 0., 0., 1.],\n",
              "       [0., 0., 0., 0., 0., 1.],\n",
              "       [1., 0., 0., 0., 0., 0.],\n",
              "       ...,\n",
              "       [1., 0., 0., 0., 0., 0.],\n",
              "       [0., 0., 0., 0., 0., 1.],\n",
              "       [0., 0., 0., 0., 0., 1.]])"
            ]
          },
          "metadata": {},
          "execution_count": 11
        }
      ]
    },
    {
      "cell_type": "code",
      "source": [
        "cat_brand.shape"
      ],
      "metadata": {
        "colab": {
          "base_uri": "https://localhost:8080/"
        },
        "id": "MCyeexdHLp8p",
        "outputId": "ff183baa-3058-4403-ef5f-c0fe44f917ab"
      },
      "execution_count": 12,
      "outputs": [
        {
          "output_type": "execute_result",
          "data": {
            "text/plain": [
              "(5916, 6)"
            ]
          },
          "metadata": {},
          "execution_count": 12
        }
      ]
    },
    {
      "cell_type": "code",
      "source": [
        "cat_val_brand = ohe.transform(df_val[['Brand']])"
      ],
      "metadata": {
        "id": "i1Up1NLUdD82"
      },
      "execution_count": 13,
      "outputs": []
    },
    {
      "cell_type": "code",
      "source": [
        "cat_val_brand"
      ],
      "metadata": {
        "colab": {
          "base_uri": "https://localhost:8080/"
        },
        "id": "CvUEjdpRdbii",
        "outputId": "07e5ae56-7f48-42f9-d0d8-b78db8501571"
      },
      "execution_count": 14,
      "outputs": [
        {
          "output_type": "execute_result",
          "data": {
            "text/plain": [
              "array([[0., 0., 0., 0., 0., 1.],\n",
              "       [0., 0., 0., 0., 0., 1.],\n",
              "       [1., 0., 0., 0., 0., 0.],\n",
              "       ...,\n",
              "       [0., 0., 0., 0., 0., 1.],\n",
              "       [0., 0., 0., 0., 0., 1.],\n",
              "       [0., 0., 0., 0., 0., 1.]])"
            ]
          },
          "metadata": {},
          "execution_count": 14
        }
      ]
    },
    {
      "cell_type": "code",
      "source": [
        "# Use ``ohe`` to transform our dataframe\n",
        "\n",
        "cat_train_array = ohe.fit_transform(df_train[CAT_COLUMN]) # ทำ one hot encoder ทีเดียวทุก feature"
      ],
      "metadata": {
        "id": "nDy1RQswa66n"
      },
      "execution_count": 15,
      "outputs": []
    },
    {
      "cell_type": "code",
      "source": [
        "cat_val_array = ohe.transform(df_val[CAT_COLUMN])"
      ],
      "metadata": {
        "id": "tK4qAjgsd2Xq"
      },
      "execution_count": 16,
      "outputs": []
    },
    {
      "cell_type": "code",
      "source": [
        "cat_train_array"
      ],
      "metadata": {
        "colab": {
          "base_uri": "https://localhost:8080/"
        },
        "id": "JHeJ3f3geCJR",
        "outputId": "f2297803-c86c-47e4-8d5a-2ff24d80062b"
      },
      "execution_count": 17,
      "outputs": [
        {
          "output_type": "execute_result",
          "data": {
            "text/plain": [
              "array([[0., 0., 0., ..., 0., 0., 0.],\n",
              "       [0., 0., 0., ..., 0., 0., 0.],\n",
              "       [1., 0., 0., ..., 0., 0., 0.],\n",
              "       ...,\n",
              "       [1., 0., 0., ..., 0., 1., 0.],\n",
              "       [0., 0., 0., ..., 0., 0., 0.],\n",
              "       [0., 0., 0., ..., 0., 0., 0.]])"
            ]
          },
          "metadata": {},
          "execution_count": 17
        }
      ]
    },
    {
      "cell_type": "code",
      "source": [
        "cat_train_array.shape, cat_val_array.shape"
      ],
      "metadata": {
        "colab": {
          "base_uri": "https://localhost:8080/"
        },
        "id": "JldqAw9WeFYn",
        "outputId": "b84dd154-d082-4d32-d1f7-fb94ea0dd3a5"
      },
      "execution_count": 18,
      "outputs": [
        {
          "output_type": "execute_result",
          "data": {
            "text/plain": [
              "((5916, 136), (1480, 136))"
            ]
          },
          "metadata": {},
          "execution_count": 18
        }
      ]
    },
    {
      "cell_type": "markdown",
      "source": [
        "# Normalize continuous values"
      ],
      "metadata": {
        "id": "ZUSreUlkeYkq"
      }
    },
    {
      "cell_type": "markdown",
      "source": [
        "We will use MinMaxScaler to normalize continuous value. For example, column X has values from 0 to 1000000, so we need to normalize them to 0 to 1. Alternatively StandardScaler is also an option."
      ],
      "metadata": {
        "id": "YSK_MHj4eayP"
      }
    },
    {
      "cell_type": "code",
      "source": [
        "# Create MinMaxScaler for numerical (continuous) columns\n",
        "\n",
        "year_scaler = MinMaxScaler()\n",
        "mileage_scaler = MinMaxScaler()\n",
        "price_scaler = MinMaxScaler()"
      ],
      "metadata": {
        "id": "QEoWIXsaeHaV"
      },
      "execution_count": 19,
      "outputs": []
    },
    {
      "cell_type": "code",
      "source": [
        "# Use Scaler to transform our dataframe\n",
        "\n",
        "scaled_year = year_scaler.fit_transform(df_train[['Year']])\n",
        "scaled_mileage = mileage_scaler.fit_transform(df_train[['Mileage']])\n",
        "scaled_price = price_scaler.fit_transform(df_train[['Price']])"
      ],
      "metadata": {
        "id": "Bptu2zofh2tN"
      },
      "execution_count": 20,
      "outputs": []
    },
    {
      "cell_type": "code",
      "source": [
        "scaled_year"
      ],
      "metadata": {
        "colab": {
          "base_uri": "https://localhost:8080/"
        },
        "id": "eCBzGHpMiQNX",
        "outputId": "ad19a7cd-e4d5-477a-874f-6e0ad471fcb4"
      },
      "execution_count": 21,
      "outputs": [
        {
          "output_type": "execute_result",
          "data": {
            "text/plain": [
              "array([[0.38095238],\n",
              "       [0.61904762],\n",
              "       [0.14285714],\n",
              "       ...,\n",
              "       [0.52380952],\n",
              "       [0.85714286],\n",
              "       [0.0952381 ]])"
            ]
          },
          "metadata": {},
          "execution_count": 21
        }
      ]
    },
    {
      "cell_type": "code",
      "source": [
        "scaled_mileage"
      ],
      "metadata": {
        "colab": {
          "base_uri": "https://localhost:8080/"
        },
        "id": "0_WJOjFWiZhp",
        "outputId": "0389a1d7-36bd-4527-d5b6-730b378f6e04"
      },
      "execution_count": 22,
      "outputs": [
        {
          "output_type": "execute_result",
          "data": {
            "text/plain": [
              "array([[0.25213312],\n",
              "       [0.16930006],\n",
              "       [0.47309379],\n",
              "       ...,\n",
              "       [0.16714825],\n",
              "       [0.08216337],\n",
              "       [0.35411497]])"
            ]
          },
          "metadata": {},
          "execution_count": 22
        }
      ]
    },
    {
      "cell_type": "markdown",
      "source": [
        "# Apply one-hot encoding and normalization to create train and test dataset"
      ],
      "metadata": {
        "id": "rjk0HcM6i5sv"
      }
    },
    {
      "cell_type": "code",
      "source": [
        "# Apply one-hot encoder and MinMaxScaler to the training and validation dataframe\n",
        "\n",
        "x_train = np.hstack([\n",
        "    ohe.transform(df_train[CAT_COLUMN]),\n",
        "    year_scaler.transform(df_train[['Year']]),\n",
        "    mileage_scaler.transform(df_train[['Mileage']])\n",
        "])\n",
        "\n",
        "y_train = price_scaler.transform(df_train[['Price']])\n",
        "\n",
        "x_val = np.hstack([\n",
        "    ohe.transform(df_val[CAT_COLUMN]),\n",
        "    year_scaler.transform(df_val[['Year']]),\n",
        "    mileage_scaler.transform(df_val[['Mileage']])\n",
        "])\n",
        "\n",
        "y_val = price_scaler.transform(df_val[['Price']])"
      ],
      "metadata": {
        "id": "wnimUutTexGi"
      },
      "execution_count": 23,
      "outputs": []
    },
    {
      "cell_type": "code",
      "source": [
        "x_train.shape, y_train.shape"
      ],
      "metadata": {
        "colab": {
          "base_uri": "https://localhost:8080/"
        },
        "id": "R-5Z6PpukGeP",
        "outputId": "8ccf3674-a7ac-4c34-879d-f362f2d26694"
      },
      "execution_count": 24,
      "outputs": [
        {
          "output_type": "execute_result",
          "data": {
            "text/plain": [
              "((5916, 138), (5916, 1))"
            ]
          },
          "metadata": {},
          "execution_count": 24
        }
      ]
    },
    {
      "cell_type": "code",
      "source": [
        "x_val.shape, y_val.shape"
      ],
      "metadata": {
        "colab": {
          "base_uri": "https://localhost:8080/"
        },
        "id": "EatwrX2YkqRP",
        "outputId": "de0185d9-be42-437c-f67f-88d6df8b57b8"
      },
      "execution_count": 25,
      "outputs": [
        {
          "output_type": "execute_result",
          "data": {
            "text/plain": [
              "((1480, 138), (1480, 1))"
            ]
          },
          "metadata": {},
          "execution_count": 25
        }
      ]
    },
    {
      "cell_type": "code",
      "source": [
        "# save one-hot encoder and scaler objects with joblib\n",
        "save_dir = 'trained_models'\n",
        "os.makedirs(save_dir, exist_ok=True)\n",
        "joblib.dump(ohe, op.join(save_dir, \"one_hot_encoder.joblib\"))\n",
        "joblib.dump(year_scaler, op.join(save_dir, \"year_scaler.joblib\"))\n",
        "joblib.dump(mileage_scaler, op.join(save_dir, \"mileage_scaler.joblib\"))\n",
        "joblib.dump(price_scaler, op.join(save_dir, \"price_scaler.joblib\"))"
      ],
      "metadata": {
        "colab": {
          "base_uri": "https://localhost:8080/"
        },
        "id": "48n5lMiokuHU",
        "outputId": "4a5a4c32-a249-4398-87c5-a6c05077c529"
      },
      "execution_count": 26,
      "outputs": [
        {
          "output_type": "execute_result",
          "data": {
            "text/plain": [
              "['trained_models/price_scaler.joblib']"
            ]
          },
          "metadata": {},
          "execution_count": 26
        }
      ]
    },
    {
      "cell_type": "markdown",
      "source": [
        "# Train a Linear Regression Model"
      ],
      "metadata": {
        "id": "bmmDaPMNmA0I"
      }
    },
    {
      "cell_type": "code",
      "source": [
        "# create a linear regression model and fit to the training data.\n",
        "\n",
        "lr_model = LinearRegression()\n",
        "lr_model.fit(x_train, y_train)"
      ],
      "metadata": {
        "colab": {
          "base_uri": "https://localhost:8080/",
          "height": 80
        },
        "id": "U7SEEhsRmIQO",
        "outputId": "b1986e92-1b21-489d-8d8b-5e5d6cc4834a"
      },
      "execution_count": 27,
      "outputs": [
        {
          "output_type": "execute_result",
          "data": {
            "text/plain": [
              "LinearRegression()"
            ],
            "text/html": [
              "<style>#sk-container-id-1 {\n",
              "  /* Definition of color scheme common for light and dark mode */\n",
              "  --sklearn-color-text: #000;\n",
              "  --sklearn-color-text-muted: #666;\n",
              "  --sklearn-color-line: gray;\n",
              "  /* Definition of color scheme for unfitted estimators */\n",
              "  --sklearn-color-unfitted-level-0: #fff5e6;\n",
              "  --sklearn-color-unfitted-level-1: #f6e4d2;\n",
              "  --sklearn-color-unfitted-level-2: #ffe0b3;\n",
              "  --sklearn-color-unfitted-level-3: chocolate;\n",
              "  /* Definition of color scheme for fitted estimators */\n",
              "  --sklearn-color-fitted-level-0: #f0f8ff;\n",
              "  --sklearn-color-fitted-level-1: #d4ebff;\n",
              "  --sklearn-color-fitted-level-2: #b3dbfd;\n",
              "  --sklearn-color-fitted-level-3: cornflowerblue;\n",
              "\n",
              "  /* Specific color for light theme */\n",
              "  --sklearn-color-text-on-default-background: var(--sg-text-color, var(--theme-code-foreground, var(--jp-content-font-color1, black)));\n",
              "  --sklearn-color-background: var(--sg-background-color, var(--theme-background, var(--jp-layout-color0, white)));\n",
              "  --sklearn-color-border-box: var(--sg-text-color, var(--theme-code-foreground, var(--jp-content-font-color1, black)));\n",
              "  --sklearn-color-icon: #696969;\n",
              "\n",
              "  @media (prefers-color-scheme: dark) {\n",
              "    /* Redefinition of color scheme for dark theme */\n",
              "    --sklearn-color-text-on-default-background: var(--sg-text-color, var(--theme-code-foreground, var(--jp-content-font-color1, white)));\n",
              "    --sklearn-color-background: var(--sg-background-color, var(--theme-background, var(--jp-layout-color0, #111)));\n",
              "    --sklearn-color-border-box: var(--sg-text-color, var(--theme-code-foreground, var(--jp-content-font-color1, white)));\n",
              "    --sklearn-color-icon: #878787;\n",
              "  }\n",
              "}\n",
              "\n",
              "#sk-container-id-1 {\n",
              "  color: var(--sklearn-color-text);\n",
              "}\n",
              "\n",
              "#sk-container-id-1 pre {\n",
              "  padding: 0;\n",
              "}\n",
              "\n",
              "#sk-container-id-1 input.sk-hidden--visually {\n",
              "  border: 0;\n",
              "  clip: rect(1px 1px 1px 1px);\n",
              "  clip: rect(1px, 1px, 1px, 1px);\n",
              "  height: 1px;\n",
              "  margin: -1px;\n",
              "  overflow: hidden;\n",
              "  padding: 0;\n",
              "  position: absolute;\n",
              "  width: 1px;\n",
              "}\n",
              "\n",
              "#sk-container-id-1 div.sk-dashed-wrapped {\n",
              "  border: 1px dashed var(--sklearn-color-line);\n",
              "  margin: 0 0.4em 0.5em 0.4em;\n",
              "  box-sizing: border-box;\n",
              "  padding-bottom: 0.4em;\n",
              "  background-color: var(--sklearn-color-background);\n",
              "}\n",
              "\n",
              "#sk-container-id-1 div.sk-container {\n",
              "  /* jupyter's `normalize.less` sets `[hidden] { display: none; }`\n",
              "     but bootstrap.min.css set `[hidden] { display: none !important; }`\n",
              "     so we also need the `!important` here to be able to override the\n",
              "     default hidden behavior on the sphinx rendered scikit-learn.org.\n",
              "     See: https://github.com/scikit-learn/scikit-learn/issues/21755 */\n",
              "  display: inline-block !important;\n",
              "  position: relative;\n",
              "}\n",
              "\n",
              "#sk-container-id-1 div.sk-text-repr-fallback {\n",
              "  display: none;\n",
              "}\n",
              "\n",
              "div.sk-parallel-item,\n",
              "div.sk-serial,\n",
              "div.sk-item {\n",
              "  /* draw centered vertical line to link estimators */\n",
              "  background-image: linear-gradient(var(--sklearn-color-text-on-default-background), var(--sklearn-color-text-on-default-background));\n",
              "  background-size: 2px 100%;\n",
              "  background-repeat: no-repeat;\n",
              "  background-position: center center;\n",
              "}\n",
              "\n",
              "/* Parallel-specific style estimator block */\n",
              "\n",
              "#sk-container-id-1 div.sk-parallel-item::after {\n",
              "  content: \"\";\n",
              "  width: 100%;\n",
              "  border-bottom: 2px solid var(--sklearn-color-text-on-default-background);\n",
              "  flex-grow: 1;\n",
              "}\n",
              "\n",
              "#sk-container-id-1 div.sk-parallel {\n",
              "  display: flex;\n",
              "  align-items: stretch;\n",
              "  justify-content: center;\n",
              "  background-color: var(--sklearn-color-background);\n",
              "  position: relative;\n",
              "}\n",
              "\n",
              "#sk-container-id-1 div.sk-parallel-item {\n",
              "  display: flex;\n",
              "  flex-direction: column;\n",
              "}\n",
              "\n",
              "#sk-container-id-1 div.sk-parallel-item:first-child::after {\n",
              "  align-self: flex-end;\n",
              "  width: 50%;\n",
              "}\n",
              "\n",
              "#sk-container-id-1 div.sk-parallel-item:last-child::after {\n",
              "  align-self: flex-start;\n",
              "  width: 50%;\n",
              "}\n",
              "\n",
              "#sk-container-id-1 div.sk-parallel-item:only-child::after {\n",
              "  width: 0;\n",
              "}\n",
              "\n",
              "/* Serial-specific style estimator block */\n",
              "\n",
              "#sk-container-id-1 div.sk-serial {\n",
              "  display: flex;\n",
              "  flex-direction: column;\n",
              "  align-items: center;\n",
              "  background-color: var(--sklearn-color-background);\n",
              "  padding-right: 1em;\n",
              "  padding-left: 1em;\n",
              "}\n",
              "\n",
              "\n",
              "/* Toggleable style: style used for estimator/Pipeline/ColumnTransformer box that is\n",
              "clickable and can be expanded/collapsed.\n",
              "- Pipeline and ColumnTransformer use this feature and define the default style\n",
              "- Estimators will overwrite some part of the style using the `sk-estimator` class\n",
              "*/\n",
              "\n",
              "/* Pipeline and ColumnTransformer style (default) */\n",
              "\n",
              "#sk-container-id-1 div.sk-toggleable {\n",
              "  /* Default theme specific background. It is overwritten whether we have a\n",
              "  specific estimator or a Pipeline/ColumnTransformer */\n",
              "  background-color: var(--sklearn-color-background);\n",
              "}\n",
              "\n",
              "/* Toggleable label */\n",
              "#sk-container-id-1 label.sk-toggleable__label {\n",
              "  cursor: pointer;\n",
              "  display: flex;\n",
              "  width: 100%;\n",
              "  margin-bottom: 0;\n",
              "  padding: 0.5em;\n",
              "  box-sizing: border-box;\n",
              "  text-align: center;\n",
              "  align-items: start;\n",
              "  justify-content: space-between;\n",
              "  gap: 0.5em;\n",
              "}\n",
              "\n",
              "#sk-container-id-1 label.sk-toggleable__label .caption {\n",
              "  font-size: 0.6rem;\n",
              "  font-weight: lighter;\n",
              "  color: var(--sklearn-color-text-muted);\n",
              "}\n",
              "\n",
              "#sk-container-id-1 label.sk-toggleable__label-arrow:before {\n",
              "  /* Arrow on the left of the label */\n",
              "  content: \"▸\";\n",
              "  float: left;\n",
              "  margin-right: 0.25em;\n",
              "  color: var(--sklearn-color-icon);\n",
              "}\n",
              "\n",
              "#sk-container-id-1 label.sk-toggleable__label-arrow:hover:before {\n",
              "  color: var(--sklearn-color-text);\n",
              "}\n",
              "\n",
              "/* Toggleable content - dropdown */\n",
              "\n",
              "#sk-container-id-1 div.sk-toggleable__content {\n",
              "  max-height: 0;\n",
              "  max-width: 0;\n",
              "  overflow: hidden;\n",
              "  text-align: left;\n",
              "  /* unfitted */\n",
              "  background-color: var(--sklearn-color-unfitted-level-0);\n",
              "}\n",
              "\n",
              "#sk-container-id-1 div.sk-toggleable__content.fitted {\n",
              "  /* fitted */\n",
              "  background-color: var(--sklearn-color-fitted-level-0);\n",
              "}\n",
              "\n",
              "#sk-container-id-1 div.sk-toggleable__content pre {\n",
              "  margin: 0.2em;\n",
              "  border-radius: 0.25em;\n",
              "  color: var(--sklearn-color-text);\n",
              "  /* unfitted */\n",
              "  background-color: var(--sklearn-color-unfitted-level-0);\n",
              "}\n",
              "\n",
              "#sk-container-id-1 div.sk-toggleable__content.fitted pre {\n",
              "  /* unfitted */\n",
              "  background-color: var(--sklearn-color-fitted-level-0);\n",
              "}\n",
              "\n",
              "#sk-container-id-1 input.sk-toggleable__control:checked~div.sk-toggleable__content {\n",
              "  /* Expand drop-down */\n",
              "  max-height: 200px;\n",
              "  max-width: 100%;\n",
              "  overflow: auto;\n",
              "}\n",
              "\n",
              "#sk-container-id-1 input.sk-toggleable__control:checked~label.sk-toggleable__label-arrow:before {\n",
              "  content: \"▾\";\n",
              "}\n",
              "\n",
              "/* Pipeline/ColumnTransformer-specific style */\n",
              "\n",
              "#sk-container-id-1 div.sk-label input.sk-toggleable__control:checked~label.sk-toggleable__label {\n",
              "  color: var(--sklearn-color-text);\n",
              "  background-color: var(--sklearn-color-unfitted-level-2);\n",
              "}\n",
              "\n",
              "#sk-container-id-1 div.sk-label.fitted input.sk-toggleable__control:checked~label.sk-toggleable__label {\n",
              "  background-color: var(--sklearn-color-fitted-level-2);\n",
              "}\n",
              "\n",
              "/* Estimator-specific style */\n",
              "\n",
              "/* Colorize estimator box */\n",
              "#sk-container-id-1 div.sk-estimator input.sk-toggleable__control:checked~label.sk-toggleable__label {\n",
              "  /* unfitted */\n",
              "  background-color: var(--sklearn-color-unfitted-level-2);\n",
              "}\n",
              "\n",
              "#sk-container-id-1 div.sk-estimator.fitted input.sk-toggleable__control:checked~label.sk-toggleable__label {\n",
              "  /* fitted */\n",
              "  background-color: var(--sklearn-color-fitted-level-2);\n",
              "}\n",
              "\n",
              "#sk-container-id-1 div.sk-label label.sk-toggleable__label,\n",
              "#sk-container-id-1 div.sk-label label {\n",
              "  /* The background is the default theme color */\n",
              "  color: var(--sklearn-color-text-on-default-background);\n",
              "}\n",
              "\n",
              "/* On hover, darken the color of the background */\n",
              "#sk-container-id-1 div.sk-label:hover label.sk-toggleable__label {\n",
              "  color: var(--sklearn-color-text);\n",
              "  background-color: var(--sklearn-color-unfitted-level-2);\n",
              "}\n",
              "\n",
              "/* Label box, darken color on hover, fitted */\n",
              "#sk-container-id-1 div.sk-label.fitted:hover label.sk-toggleable__label.fitted {\n",
              "  color: var(--sklearn-color-text);\n",
              "  background-color: var(--sklearn-color-fitted-level-2);\n",
              "}\n",
              "\n",
              "/* Estimator label */\n",
              "\n",
              "#sk-container-id-1 div.sk-label label {\n",
              "  font-family: monospace;\n",
              "  font-weight: bold;\n",
              "  display: inline-block;\n",
              "  line-height: 1.2em;\n",
              "}\n",
              "\n",
              "#sk-container-id-1 div.sk-label-container {\n",
              "  text-align: center;\n",
              "}\n",
              "\n",
              "/* Estimator-specific */\n",
              "#sk-container-id-1 div.sk-estimator {\n",
              "  font-family: monospace;\n",
              "  border: 1px dotted var(--sklearn-color-border-box);\n",
              "  border-radius: 0.25em;\n",
              "  box-sizing: border-box;\n",
              "  margin-bottom: 0.5em;\n",
              "  /* unfitted */\n",
              "  background-color: var(--sklearn-color-unfitted-level-0);\n",
              "}\n",
              "\n",
              "#sk-container-id-1 div.sk-estimator.fitted {\n",
              "  /* fitted */\n",
              "  background-color: var(--sklearn-color-fitted-level-0);\n",
              "}\n",
              "\n",
              "/* on hover */\n",
              "#sk-container-id-1 div.sk-estimator:hover {\n",
              "  /* unfitted */\n",
              "  background-color: var(--sklearn-color-unfitted-level-2);\n",
              "}\n",
              "\n",
              "#sk-container-id-1 div.sk-estimator.fitted:hover {\n",
              "  /* fitted */\n",
              "  background-color: var(--sklearn-color-fitted-level-2);\n",
              "}\n",
              "\n",
              "/* Specification for estimator info (e.g. \"i\" and \"?\") */\n",
              "\n",
              "/* Common style for \"i\" and \"?\" */\n",
              "\n",
              ".sk-estimator-doc-link,\n",
              "a:link.sk-estimator-doc-link,\n",
              "a:visited.sk-estimator-doc-link {\n",
              "  float: right;\n",
              "  font-size: smaller;\n",
              "  line-height: 1em;\n",
              "  font-family: monospace;\n",
              "  background-color: var(--sklearn-color-background);\n",
              "  border-radius: 1em;\n",
              "  height: 1em;\n",
              "  width: 1em;\n",
              "  text-decoration: none !important;\n",
              "  margin-left: 0.5em;\n",
              "  text-align: center;\n",
              "  /* unfitted */\n",
              "  border: var(--sklearn-color-unfitted-level-1) 1pt solid;\n",
              "  color: var(--sklearn-color-unfitted-level-1);\n",
              "}\n",
              "\n",
              ".sk-estimator-doc-link.fitted,\n",
              "a:link.sk-estimator-doc-link.fitted,\n",
              "a:visited.sk-estimator-doc-link.fitted {\n",
              "  /* fitted */\n",
              "  border: var(--sklearn-color-fitted-level-1) 1pt solid;\n",
              "  color: var(--sklearn-color-fitted-level-1);\n",
              "}\n",
              "\n",
              "/* On hover */\n",
              "div.sk-estimator:hover .sk-estimator-doc-link:hover,\n",
              ".sk-estimator-doc-link:hover,\n",
              "div.sk-label-container:hover .sk-estimator-doc-link:hover,\n",
              ".sk-estimator-doc-link:hover {\n",
              "  /* unfitted */\n",
              "  background-color: var(--sklearn-color-unfitted-level-3);\n",
              "  color: var(--sklearn-color-background);\n",
              "  text-decoration: none;\n",
              "}\n",
              "\n",
              "div.sk-estimator.fitted:hover .sk-estimator-doc-link.fitted:hover,\n",
              ".sk-estimator-doc-link.fitted:hover,\n",
              "div.sk-label-container:hover .sk-estimator-doc-link.fitted:hover,\n",
              ".sk-estimator-doc-link.fitted:hover {\n",
              "  /* fitted */\n",
              "  background-color: var(--sklearn-color-fitted-level-3);\n",
              "  color: var(--sklearn-color-background);\n",
              "  text-decoration: none;\n",
              "}\n",
              "\n",
              "/* Span, style for the box shown on hovering the info icon */\n",
              ".sk-estimator-doc-link span {\n",
              "  display: none;\n",
              "  z-index: 9999;\n",
              "  position: relative;\n",
              "  font-weight: normal;\n",
              "  right: .2ex;\n",
              "  padding: .5ex;\n",
              "  margin: .5ex;\n",
              "  width: min-content;\n",
              "  min-width: 20ex;\n",
              "  max-width: 50ex;\n",
              "  color: var(--sklearn-color-text);\n",
              "  box-shadow: 2pt 2pt 4pt #999;\n",
              "  /* unfitted */\n",
              "  background: var(--sklearn-color-unfitted-level-0);\n",
              "  border: .5pt solid var(--sklearn-color-unfitted-level-3);\n",
              "}\n",
              "\n",
              ".sk-estimator-doc-link.fitted span {\n",
              "  /* fitted */\n",
              "  background: var(--sklearn-color-fitted-level-0);\n",
              "  border: var(--sklearn-color-fitted-level-3);\n",
              "}\n",
              "\n",
              ".sk-estimator-doc-link:hover span {\n",
              "  display: block;\n",
              "}\n",
              "\n",
              "/* \"?\"-specific style due to the `<a>` HTML tag */\n",
              "\n",
              "#sk-container-id-1 a.estimator_doc_link {\n",
              "  float: right;\n",
              "  font-size: 1rem;\n",
              "  line-height: 1em;\n",
              "  font-family: monospace;\n",
              "  background-color: var(--sklearn-color-background);\n",
              "  border-radius: 1rem;\n",
              "  height: 1rem;\n",
              "  width: 1rem;\n",
              "  text-decoration: none;\n",
              "  /* unfitted */\n",
              "  color: var(--sklearn-color-unfitted-level-1);\n",
              "  border: var(--sklearn-color-unfitted-level-1) 1pt solid;\n",
              "}\n",
              "\n",
              "#sk-container-id-1 a.estimator_doc_link.fitted {\n",
              "  /* fitted */\n",
              "  border: var(--sklearn-color-fitted-level-1) 1pt solid;\n",
              "  color: var(--sklearn-color-fitted-level-1);\n",
              "}\n",
              "\n",
              "/* On hover */\n",
              "#sk-container-id-1 a.estimator_doc_link:hover {\n",
              "  /* unfitted */\n",
              "  background-color: var(--sklearn-color-unfitted-level-3);\n",
              "  color: var(--sklearn-color-background);\n",
              "  text-decoration: none;\n",
              "}\n",
              "\n",
              "#sk-container-id-1 a.estimator_doc_link.fitted:hover {\n",
              "  /* fitted */\n",
              "  background-color: var(--sklearn-color-fitted-level-3);\n",
              "}\n",
              "</style><div id=\"sk-container-id-1\" class=\"sk-top-container\"><div class=\"sk-text-repr-fallback\"><pre>LinearRegression()</pre><b>In a Jupyter environment, please rerun this cell to show the HTML representation or trust the notebook. <br />On GitHub, the HTML representation is unable to render, please try loading this page with nbviewer.org.</b></div><div class=\"sk-container\" hidden><div class=\"sk-item\"><div class=\"sk-estimator fitted sk-toggleable\"><input class=\"sk-toggleable__control sk-hidden--visually\" id=\"sk-estimator-id-1\" type=\"checkbox\" checked><label for=\"sk-estimator-id-1\" class=\"sk-toggleable__label fitted sk-toggleable__label-arrow\"><div><div>LinearRegression</div></div><div><a class=\"sk-estimator-doc-link fitted\" rel=\"noreferrer\" target=\"_blank\" href=\"https://scikit-learn.org/1.6/modules/generated/sklearn.linear_model.LinearRegression.html\">?<span>Documentation for LinearRegression</span></a><span class=\"sk-estimator-doc-link fitted\">i<span>Fitted</span></span></div></label><div class=\"sk-toggleable__content fitted\"><pre>LinearRegression()</pre></div> </div></div></div></div>"
            ]
          },
          "metadata": {},
          "execution_count": 27
        }
      ]
    },
    {
      "cell_type": "code",
      "source": [
        "y_pred = lr_model.predict(x_val)\n",
        "y_pred.shape"
      ],
      "metadata": {
        "colab": {
          "base_uri": "https://localhost:8080/"
        },
        "id": "nLyWaDmKmruZ",
        "outputId": "42440ec1-8c51-4c74-bd20-ce48928191f7"
      },
      "execution_count": 28,
      "outputs": [
        {
          "output_type": "execute_result",
          "data": {
            "text/plain": [
              "(1480, 1)"
            ]
          },
          "metadata": {},
          "execution_count": 28
        }
      ]
    },
    {
      "cell_type": "code",
      "source": [
        "y_pred"
      ],
      "metadata": {
        "colab": {
          "base_uri": "https://localhost:8080/"
        },
        "id": "hRROWIbEBor4",
        "outputId": "5298fe2d-310f-46aa-cee5-28b913f4f616"
      },
      "execution_count": 29,
      "outputs": [
        {
          "output_type": "execute_result",
          "data": {
            "text/plain": [
              "array([[0.25053805],\n",
              "       [0.27983299],\n",
              "       [0.17263115],\n",
              "       ...,\n",
              "       [0.35946615],\n",
              "       [0.33207586],\n",
              "       [0.20616316]])"
            ]
          },
          "metadata": {},
          "execution_count": 29
        }
      ]
    },
    {
      "cell_type": "code",
      "source": [
        "y_val"
      ],
      "metadata": {
        "colab": {
          "base_uri": "https://localhost:8080/"
        },
        "id": "5o6KDdYABt1y",
        "outputId": "aaf391c5-31cc-47f2-dcaf-8d431a390fe0"
      },
      "execution_count": 30,
      "outputs": [
        {
          "output_type": "execute_result",
          "data": {
            "text/plain": [
              "array([[0.21989906],\n",
              "       [0.25378515],\n",
              "       [0.1888969 ],\n",
              "       ...,\n",
              "       [0.35039654],\n",
              "       [0.32011536],\n",
              "       [0.16372026]])"
            ]
          },
          "metadata": {},
          "execution_count": 30
        }
      ]
    },
    {
      "cell_type": "code",
      "source": [
        "price_scaler.inverse_transform(y_pred)"
      ],
      "metadata": {
        "colab": {
          "base_uri": "https://localhost:8080/"
        },
        "id": "CnEX2p-Km2D1",
        "outputId": "96ca29ae-6187-4f39-aa62-e5524776a5be"
      },
      "execution_count": 31,
      "outputs": [
        {
          "output_type": "execute_result",
          "data": {
            "text/plain": [
              "array([[380496.27347563],\n",
              "       [421128.35865657],\n",
              "       [272439.40537757],\n",
              "       ...,\n",
              "       [531579.54830609],\n",
              "       [493589.22110596],\n",
              "       [318948.29859058]])"
            ]
          },
          "metadata": {},
          "execution_count": 31
        }
      ]
    },
    {
      "cell_type": "code",
      "source": [
        "price_scaler.inverse_transform(y_val)"
      ],
      "metadata": {
        "colab": {
          "base_uri": "https://localhost:8080/"
        },
        "id": "akbSRaaRBjNe",
        "outputId": "0de26b0d-6303-4d1e-8492-dc1ffe12c2f9"
      },
      "execution_count": 32,
      "outputs": [
        {
          "output_type": "execute_result",
          "data": {
            "text/plain": [
              "array([[338000.],\n",
              "       [385000.],\n",
              "       [295000.],\n",
              "       ...,\n",
              "       [519000.],\n",
              "       [477000.],\n",
              "       [260080.]])"
            ]
          },
          "metadata": {},
          "execution_count": 32
        }
      ]
    },
    {
      "cell_type": "code",
      "source": [
        "# เพิ่ม column ผลลัพธ์ predicted ใน df_val\n",
        "df_val['Predicted_Price_LR'] = price_scaler.inverse_transform(y_pred).ravel()"
      ],
      "metadata": {
        "id": "VgQweUTJm_xH"
      },
      "execution_count": 33,
      "outputs": []
    },
    {
      "cell_type": "code",
      "source": [
        "df_val"
      ],
      "metadata": {
        "colab": {
          "base_uri": "https://localhost:8080/",
          "height": 423
        },
        "id": "msQ3z-IxnvHl",
        "outputId": "a507576a-6fd9-40b7-9b87-66bcaeac002d"
      },
      "execution_count": 34,
      "outputs": [
        {
          "output_type": "execute_result",
          "data": {
            "text/plain": [
              "           Brand    Model  Engine    Segment  Year   Mileage       Province  \\\n",
              "2759      Toyota     Vios     1.5  B-Segment  2015   62639.0  กรุงเทพมหานคร   \n",
              "2846      Toyota    Altis     1.6  C-Segment  2015   65615.0          สงขลา   \n",
              "6682       Honda    Civic     2.0  C-Segment  2007  203000.0      สิงห์บุรี   \n",
              "3262      Toyota    Yaris     1.2    Eco Car  2014  124007.0        ราชบุรี   \n",
              "486        Mazda   Mazda2     1.3  B-Segment  2019   51957.0  กรุงเทพมหานคร   \n",
              "...          ...      ...     ...        ...   ...       ...            ...   \n",
              "6782      Toyota    Yaris     1.5    Eco Car  2006  156479.0  กรุงเทพมหานคร   \n",
              "110   Mitsubishi  Attrage     1.2    Eco Car  2020   13000.0        สระบุรี   \n",
              "51        Toyota    Yaris     1.2    Eco Car  2021    2000.0        นนทบุรี   \n",
              "1109      Toyota    Altis     1.6  C-Segment  2018   94970.0        นนทบุรี   \n",
              "3745      Toyota     Vios     1.5  B-Segment  2013  120000.0  กรุงเทพมหานคร   \n",
              "\n",
              "         Price   Color  Predicted_Price_LR  \n",
              "2759  338000.0    Gray       380496.273476  \n",
              "2846  385000.0  Silver       421128.358657  \n",
              "6682  295000.0    Gray       272439.405378  \n",
              "3262  339000.0   White       298120.244429  \n",
              "486   439000.0    Blue       458681.852892  \n",
              "...        ...     ...                 ...  \n",
              "6782  185000.0    Gray       109925.948658  \n",
              "110   385000.0   White       413265.338868  \n",
              "51    519000.0   White       531579.548306  \n",
              "1109  477000.0    Gray       493589.221106  \n",
              "3745  260080.0   White       318948.298591  \n",
              "\n",
              "[1480 rows x 10 columns]"
            ],
            "text/html": [
              "\n",
              "  <div id=\"df-f1977fca-1133-47d6-849d-c65ca31fd1e9\" class=\"colab-df-container\">\n",
              "    <div>\n",
              "<style scoped>\n",
              "    .dataframe tbody tr th:only-of-type {\n",
              "        vertical-align: middle;\n",
              "    }\n",
              "\n",
              "    .dataframe tbody tr th {\n",
              "        vertical-align: top;\n",
              "    }\n",
              "\n",
              "    .dataframe thead th {\n",
              "        text-align: right;\n",
              "    }\n",
              "</style>\n",
              "<table border=\"1\" class=\"dataframe\">\n",
              "  <thead>\n",
              "    <tr style=\"text-align: right;\">\n",
              "      <th></th>\n",
              "      <th>Brand</th>\n",
              "      <th>Model</th>\n",
              "      <th>Engine</th>\n",
              "      <th>Segment</th>\n",
              "      <th>Year</th>\n",
              "      <th>Mileage</th>\n",
              "      <th>Province</th>\n",
              "      <th>Price</th>\n",
              "      <th>Color</th>\n",
              "      <th>Predicted_Price_LR</th>\n",
              "    </tr>\n",
              "  </thead>\n",
              "  <tbody>\n",
              "    <tr>\n",
              "      <th>2759</th>\n",
              "      <td>Toyota</td>\n",
              "      <td>Vios</td>\n",
              "      <td>1.5</td>\n",
              "      <td>B-Segment</td>\n",
              "      <td>2015</td>\n",
              "      <td>62639.0</td>\n",
              "      <td>กรุงเทพมหานคร</td>\n",
              "      <td>338000.0</td>\n",
              "      <td>Gray</td>\n",
              "      <td>380496.273476</td>\n",
              "    </tr>\n",
              "    <tr>\n",
              "      <th>2846</th>\n",
              "      <td>Toyota</td>\n",
              "      <td>Altis</td>\n",
              "      <td>1.6</td>\n",
              "      <td>C-Segment</td>\n",
              "      <td>2015</td>\n",
              "      <td>65615.0</td>\n",
              "      <td>สงขลา</td>\n",
              "      <td>385000.0</td>\n",
              "      <td>Silver</td>\n",
              "      <td>421128.358657</td>\n",
              "    </tr>\n",
              "    <tr>\n",
              "      <th>6682</th>\n",
              "      <td>Honda</td>\n",
              "      <td>Civic</td>\n",
              "      <td>2.0</td>\n",
              "      <td>C-Segment</td>\n",
              "      <td>2007</td>\n",
              "      <td>203000.0</td>\n",
              "      <td>สิงห์บุรี</td>\n",
              "      <td>295000.0</td>\n",
              "      <td>Gray</td>\n",
              "      <td>272439.405378</td>\n",
              "    </tr>\n",
              "    <tr>\n",
              "      <th>3262</th>\n",
              "      <td>Toyota</td>\n",
              "      <td>Yaris</td>\n",
              "      <td>1.2</td>\n",
              "      <td>Eco Car</td>\n",
              "      <td>2014</td>\n",
              "      <td>124007.0</td>\n",
              "      <td>ราชบุรี</td>\n",
              "      <td>339000.0</td>\n",
              "      <td>White</td>\n",
              "      <td>298120.244429</td>\n",
              "    </tr>\n",
              "    <tr>\n",
              "      <th>486</th>\n",
              "      <td>Mazda</td>\n",
              "      <td>Mazda2</td>\n",
              "      <td>1.3</td>\n",
              "      <td>B-Segment</td>\n",
              "      <td>2019</td>\n",
              "      <td>51957.0</td>\n",
              "      <td>กรุงเทพมหานคร</td>\n",
              "      <td>439000.0</td>\n",
              "      <td>Blue</td>\n",
              "      <td>458681.852892</td>\n",
              "    </tr>\n",
              "    <tr>\n",
              "      <th>...</th>\n",
              "      <td>...</td>\n",
              "      <td>...</td>\n",
              "      <td>...</td>\n",
              "      <td>...</td>\n",
              "      <td>...</td>\n",
              "      <td>...</td>\n",
              "      <td>...</td>\n",
              "      <td>...</td>\n",
              "      <td>...</td>\n",
              "      <td>...</td>\n",
              "    </tr>\n",
              "    <tr>\n",
              "      <th>6782</th>\n",
              "      <td>Toyota</td>\n",
              "      <td>Yaris</td>\n",
              "      <td>1.5</td>\n",
              "      <td>Eco Car</td>\n",
              "      <td>2006</td>\n",
              "      <td>156479.0</td>\n",
              "      <td>กรุงเทพมหานคร</td>\n",
              "      <td>185000.0</td>\n",
              "      <td>Gray</td>\n",
              "      <td>109925.948658</td>\n",
              "    </tr>\n",
              "    <tr>\n",
              "      <th>110</th>\n",
              "      <td>Mitsubishi</td>\n",
              "      <td>Attrage</td>\n",
              "      <td>1.2</td>\n",
              "      <td>Eco Car</td>\n",
              "      <td>2020</td>\n",
              "      <td>13000.0</td>\n",
              "      <td>สระบุรี</td>\n",
              "      <td>385000.0</td>\n",
              "      <td>White</td>\n",
              "      <td>413265.338868</td>\n",
              "    </tr>\n",
              "    <tr>\n",
              "      <th>51</th>\n",
              "      <td>Toyota</td>\n",
              "      <td>Yaris</td>\n",
              "      <td>1.2</td>\n",
              "      <td>Eco Car</td>\n",
              "      <td>2021</td>\n",
              "      <td>2000.0</td>\n",
              "      <td>นนทบุรี</td>\n",
              "      <td>519000.0</td>\n",
              "      <td>White</td>\n",
              "      <td>531579.548306</td>\n",
              "    </tr>\n",
              "    <tr>\n",
              "      <th>1109</th>\n",
              "      <td>Toyota</td>\n",
              "      <td>Altis</td>\n",
              "      <td>1.6</td>\n",
              "      <td>C-Segment</td>\n",
              "      <td>2018</td>\n",
              "      <td>94970.0</td>\n",
              "      <td>นนทบุรี</td>\n",
              "      <td>477000.0</td>\n",
              "      <td>Gray</td>\n",
              "      <td>493589.221106</td>\n",
              "    </tr>\n",
              "    <tr>\n",
              "      <th>3745</th>\n",
              "      <td>Toyota</td>\n",
              "      <td>Vios</td>\n",
              "      <td>1.5</td>\n",
              "      <td>B-Segment</td>\n",
              "      <td>2013</td>\n",
              "      <td>120000.0</td>\n",
              "      <td>กรุงเทพมหานคร</td>\n",
              "      <td>260080.0</td>\n",
              "      <td>White</td>\n",
              "      <td>318948.298591</td>\n",
              "    </tr>\n",
              "  </tbody>\n",
              "</table>\n",
              "<p>1480 rows × 10 columns</p>\n",
              "</div>\n",
              "    <div class=\"colab-df-buttons\">\n",
              "\n",
              "  <div class=\"colab-df-container\">\n",
              "    <button class=\"colab-df-convert\" onclick=\"convertToInteractive('df-f1977fca-1133-47d6-849d-c65ca31fd1e9')\"\n",
              "            title=\"Convert this dataframe to an interactive table.\"\n",
              "            style=\"display:none;\">\n",
              "\n",
              "  <svg xmlns=\"http://www.w3.org/2000/svg\" height=\"24px\" viewBox=\"0 -960 960 960\">\n",
              "    <path d=\"M120-120v-720h720v720H120Zm60-500h600v-160H180v160Zm220 220h160v-160H400v160Zm0 220h160v-160H400v160ZM180-400h160v-160H180v160Zm440 0h160v-160H620v160ZM180-180h160v-160H180v160Zm440 0h160v-160H620v160Z\"/>\n",
              "  </svg>\n",
              "    </button>\n",
              "\n",
              "  <style>\n",
              "    .colab-df-container {\n",
              "      display:flex;\n",
              "      gap: 12px;\n",
              "    }\n",
              "\n",
              "    .colab-df-convert {\n",
              "      background-color: #E8F0FE;\n",
              "      border: none;\n",
              "      border-radius: 50%;\n",
              "      cursor: pointer;\n",
              "      display: none;\n",
              "      fill: #1967D2;\n",
              "      height: 32px;\n",
              "      padding: 0 0 0 0;\n",
              "      width: 32px;\n",
              "    }\n",
              "\n",
              "    .colab-df-convert:hover {\n",
              "      background-color: #E2EBFA;\n",
              "      box-shadow: 0px 1px 2px rgba(60, 64, 67, 0.3), 0px 1px 3px 1px rgba(60, 64, 67, 0.15);\n",
              "      fill: #174EA6;\n",
              "    }\n",
              "\n",
              "    .colab-df-buttons div {\n",
              "      margin-bottom: 4px;\n",
              "    }\n",
              "\n",
              "    [theme=dark] .colab-df-convert {\n",
              "      background-color: #3B4455;\n",
              "      fill: #D2E3FC;\n",
              "    }\n",
              "\n",
              "    [theme=dark] .colab-df-convert:hover {\n",
              "      background-color: #434B5C;\n",
              "      box-shadow: 0px 1px 3px 1px rgba(0, 0, 0, 0.15);\n",
              "      filter: drop-shadow(0px 1px 2px rgba(0, 0, 0, 0.3));\n",
              "      fill: #FFFFFF;\n",
              "    }\n",
              "  </style>\n",
              "\n",
              "    <script>\n",
              "      const buttonEl =\n",
              "        document.querySelector('#df-f1977fca-1133-47d6-849d-c65ca31fd1e9 button.colab-df-convert');\n",
              "      buttonEl.style.display =\n",
              "        google.colab.kernel.accessAllowed ? 'block' : 'none';\n",
              "\n",
              "      async function convertToInteractive(key) {\n",
              "        const element = document.querySelector('#df-f1977fca-1133-47d6-849d-c65ca31fd1e9');\n",
              "        const dataTable =\n",
              "          await google.colab.kernel.invokeFunction('convertToInteractive',\n",
              "                                                    [key], {});\n",
              "        if (!dataTable) return;\n",
              "\n",
              "        const docLinkHtml = 'Like what you see? Visit the ' +\n",
              "          '<a target=\"_blank\" href=https://colab.research.google.com/notebooks/data_table.ipynb>data table notebook</a>'\n",
              "          + ' to learn more about interactive tables.';\n",
              "        element.innerHTML = '';\n",
              "        dataTable['output_type'] = 'display_data';\n",
              "        await google.colab.output.renderOutput(dataTable, element);\n",
              "        const docLink = document.createElement('div');\n",
              "        docLink.innerHTML = docLinkHtml;\n",
              "        element.appendChild(docLink);\n",
              "      }\n",
              "    </script>\n",
              "  </div>\n",
              "\n",
              "\n",
              "<div id=\"df-3aba6caf-f25c-440f-9f35-1f5986e9fc68\">\n",
              "  <button class=\"colab-df-quickchart\" onclick=\"quickchart('df-3aba6caf-f25c-440f-9f35-1f5986e9fc68')\"\n",
              "            title=\"Suggest charts\"\n",
              "            style=\"display:none;\">\n",
              "\n",
              "<svg xmlns=\"http://www.w3.org/2000/svg\" height=\"24px\"viewBox=\"0 0 24 24\"\n",
              "     width=\"24px\">\n",
              "    <g>\n",
              "        <path d=\"M19 3H5c-1.1 0-2 .9-2 2v14c0 1.1.9 2 2 2h14c1.1 0 2-.9 2-2V5c0-1.1-.9-2-2-2zM9 17H7v-7h2v7zm4 0h-2V7h2v10zm4 0h-2v-4h2v4z\"/>\n",
              "    </g>\n",
              "</svg>\n",
              "  </button>\n",
              "\n",
              "<style>\n",
              "  .colab-df-quickchart {\n",
              "      --bg-color: #E8F0FE;\n",
              "      --fill-color: #1967D2;\n",
              "      --hover-bg-color: #E2EBFA;\n",
              "      --hover-fill-color: #174EA6;\n",
              "      --disabled-fill-color: #AAA;\n",
              "      --disabled-bg-color: #DDD;\n",
              "  }\n",
              "\n",
              "  [theme=dark] .colab-df-quickchart {\n",
              "      --bg-color: #3B4455;\n",
              "      --fill-color: #D2E3FC;\n",
              "      --hover-bg-color: #434B5C;\n",
              "      --hover-fill-color: #FFFFFF;\n",
              "      --disabled-bg-color: #3B4455;\n",
              "      --disabled-fill-color: #666;\n",
              "  }\n",
              "\n",
              "  .colab-df-quickchart {\n",
              "    background-color: var(--bg-color);\n",
              "    border: none;\n",
              "    border-radius: 50%;\n",
              "    cursor: pointer;\n",
              "    display: none;\n",
              "    fill: var(--fill-color);\n",
              "    height: 32px;\n",
              "    padding: 0;\n",
              "    width: 32px;\n",
              "  }\n",
              "\n",
              "  .colab-df-quickchart:hover {\n",
              "    background-color: var(--hover-bg-color);\n",
              "    box-shadow: 0 1px 2px rgba(60, 64, 67, 0.3), 0 1px 3px 1px rgba(60, 64, 67, 0.15);\n",
              "    fill: var(--button-hover-fill-color);\n",
              "  }\n",
              "\n",
              "  .colab-df-quickchart-complete:disabled,\n",
              "  .colab-df-quickchart-complete:disabled:hover {\n",
              "    background-color: var(--disabled-bg-color);\n",
              "    fill: var(--disabled-fill-color);\n",
              "    box-shadow: none;\n",
              "  }\n",
              "\n",
              "  .colab-df-spinner {\n",
              "    border: 2px solid var(--fill-color);\n",
              "    border-color: transparent;\n",
              "    border-bottom-color: var(--fill-color);\n",
              "    animation:\n",
              "      spin 1s steps(1) infinite;\n",
              "  }\n",
              "\n",
              "  @keyframes spin {\n",
              "    0% {\n",
              "      border-color: transparent;\n",
              "      border-bottom-color: var(--fill-color);\n",
              "      border-left-color: var(--fill-color);\n",
              "    }\n",
              "    20% {\n",
              "      border-color: transparent;\n",
              "      border-left-color: var(--fill-color);\n",
              "      border-top-color: var(--fill-color);\n",
              "    }\n",
              "    30% {\n",
              "      border-color: transparent;\n",
              "      border-left-color: var(--fill-color);\n",
              "      border-top-color: var(--fill-color);\n",
              "      border-right-color: var(--fill-color);\n",
              "    }\n",
              "    40% {\n",
              "      border-color: transparent;\n",
              "      border-right-color: var(--fill-color);\n",
              "      border-top-color: var(--fill-color);\n",
              "    }\n",
              "    60% {\n",
              "      border-color: transparent;\n",
              "      border-right-color: var(--fill-color);\n",
              "    }\n",
              "    80% {\n",
              "      border-color: transparent;\n",
              "      border-right-color: var(--fill-color);\n",
              "      border-bottom-color: var(--fill-color);\n",
              "    }\n",
              "    90% {\n",
              "      border-color: transparent;\n",
              "      border-bottom-color: var(--fill-color);\n",
              "    }\n",
              "  }\n",
              "</style>\n",
              "\n",
              "  <script>\n",
              "    async function quickchart(key) {\n",
              "      const quickchartButtonEl =\n",
              "        document.querySelector('#' + key + ' button');\n",
              "      quickchartButtonEl.disabled = true;  // To prevent multiple clicks.\n",
              "      quickchartButtonEl.classList.add('colab-df-spinner');\n",
              "      try {\n",
              "        const charts = await google.colab.kernel.invokeFunction(\n",
              "            'suggestCharts', [key], {});\n",
              "      } catch (error) {\n",
              "        console.error('Error during call to suggestCharts:', error);\n",
              "      }\n",
              "      quickchartButtonEl.classList.remove('colab-df-spinner');\n",
              "      quickchartButtonEl.classList.add('colab-df-quickchart-complete');\n",
              "    }\n",
              "    (() => {\n",
              "      let quickchartButtonEl =\n",
              "        document.querySelector('#df-3aba6caf-f25c-440f-9f35-1f5986e9fc68 button');\n",
              "      quickchartButtonEl.style.display =\n",
              "        google.colab.kernel.accessAllowed ? 'block' : 'none';\n",
              "    })();\n",
              "  </script>\n",
              "</div>\n",
              "\n",
              "  <div id=\"id_14a86166-3434-45bd-9802-d408789b901f\">\n",
              "    <style>\n",
              "      .colab-df-generate {\n",
              "        background-color: #E8F0FE;\n",
              "        border: none;\n",
              "        border-radius: 50%;\n",
              "        cursor: pointer;\n",
              "        display: none;\n",
              "        fill: #1967D2;\n",
              "        height: 32px;\n",
              "        padding: 0 0 0 0;\n",
              "        width: 32px;\n",
              "      }\n",
              "\n",
              "      .colab-df-generate:hover {\n",
              "        background-color: #E2EBFA;\n",
              "        box-shadow: 0px 1px 2px rgba(60, 64, 67, 0.3), 0px 1px 3px 1px rgba(60, 64, 67, 0.15);\n",
              "        fill: #174EA6;\n",
              "      }\n",
              "\n",
              "      [theme=dark] .colab-df-generate {\n",
              "        background-color: #3B4455;\n",
              "        fill: #D2E3FC;\n",
              "      }\n",
              "\n",
              "      [theme=dark] .colab-df-generate:hover {\n",
              "        background-color: #434B5C;\n",
              "        box-shadow: 0px 1px 3px 1px rgba(0, 0, 0, 0.15);\n",
              "        filter: drop-shadow(0px 1px 2px rgba(0, 0, 0, 0.3));\n",
              "        fill: #FFFFFF;\n",
              "      }\n",
              "    </style>\n",
              "    <button class=\"colab-df-generate\" onclick=\"generateWithVariable('df_val')\"\n",
              "            title=\"Generate code using this dataframe.\"\n",
              "            style=\"display:none;\">\n",
              "\n",
              "  <svg xmlns=\"http://www.w3.org/2000/svg\" height=\"24px\"viewBox=\"0 0 24 24\"\n",
              "       width=\"24px\">\n",
              "    <path d=\"M7,19H8.4L18.45,9,17,7.55,7,17.6ZM5,21V16.75L18.45,3.32a2,2,0,0,1,2.83,0l1.4,1.43a1.91,1.91,0,0,1,.58,1.4,1.91,1.91,0,0,1-.58,1.4L9.25,21ZM18.45,9,17,7.55Zm-12,3A5.31,5.31,0,0,0,4.9,8.1,5.31,5.31,0,0,0,1,6.5,5.31,5.31,0,0,0,4.9,4.9,5.31,5.31,0,0,0,6.5,1,5.31,5.31,0,0,0,8.1,4.9,5.31,5.31,0,0,0,12,6.5,5.46,5.46,0,0,0,6.5,12Z\"/>\n",
              "  </svg>\n",
              "    </button>\n",
              "    <script>\n",
              "      (() => {\n",
              "      const buttonEl =\n",
              "        document.querySelector('#id_14a86166-3434-45bd-9802-d408789b901f button.colab-df-generate');\n",
              "      buttonEl.style.display =\n",
              "        google.colab.kernel.accessAllowed ? 'block' : 'none';\n",
              "\n",
              "      buttonEl.onclick = () => {\n",
              "        google.colab.notebook.generateWithVariable('df_val');\n",
              "      }\n",
              "      })();\n",
              "    </script>\n",
              "  </div>\n",
              "\n",
              "    </div>\n",
              "  </div>\n"
            ],
            "application/vnd.google.colaboratory.intrinsic+json": {
              "type": "dataframe",
              "variable_name": "df_val",
              "summary": "{\n  \"name\": \"df_val\",\n  \"rows\": 1480,\n  \"fields\": [\n    {\n      \"column\": \"Brand\",\n      \"properties\": {\n        \"dtype\": \"category\",\n        \"num_unique_values\": 6,\n        \"samples\": [\n          \"Toyota\",\n          \"Honda\",\n          \"Mitsubishi\"\n        ],\n        \"semantic_type\": \"\",\n        \"description\": \"\"\n      }\n    },\n    {\n      \"column\": \"Model\",\n      \"properties\": {\n        \"dtype\": \"category\",\n        \"num_unique_values\": 27,\n        \"samples\": [\n          \"City\",\n          \"Lancer\",\n          \"Swift\"\n        ],\n        \"semantic_type\": \"\",\n        \"description\": \"\"\n      }\n    },\n    {\n      \"column\": \"Engine\",\n      \"properties\": {\n        \"dtype\": \"number\",\n        \"std\": 0.3507212437054856,\n        \"min\": 1.0,\n        \"max\": 3.0,\n        \"num_unique_values\": 13,\n        \"samples\": [\n          2.3,\n          2.5,\n          1.5\n        ],\n        \"semantic_type\": \"\",\n        \"description\": \"\"\n      }\n    },\n    {\n      \"column\": \"Segment\",\n      \"properties\": {\n        \"dtype\": \"category\",\n        \"num_unique_values\": 4,\n        \"samples\": [\n          \"C-Segment\",\n          \"D-Segment\",\n          \"B-Segment\"\n        ],\n        \"semantic_type\": \"\",\n        \"description\": \"\"\n      }\n    },\n    {\n      \"column\": \"Year\",\n      \"properties\": {\n        \"dtype\": \"number\",\n        \"std\": 4,\n        \"min\": 2000,\n        \"max\": 2022,\n        \"num_unique_values\": 23,\n        \"samples\": [\n          2016,\n          2017,\n          2015\n        ],\n        \"semantic_type\": \"\",\n        \"description\": \"\"\n      }\n    },\n    {\n      \"column\": \"Mileage\",\n      \"properties\": {\n        \"dtype\": \"number\",\n        \"std\": 65998.61274484944,\n        \"min\": 1000.0,\n        \"max\": 600000.0,\n        \"num_unique_values\": 609,\n        \"samples\": [\n          275000.0,\n          229237.0,\n          162746.0\n        ],\n        \"semantic_type\": \"\",\n        \"description\": \"\"\n      }\n    },\n    {\n      \"column\": \"Province\",\n      \"properties\": {\n        \"dtype\": \"category\",\n        \"num_unique_values\": 53,\n        \"samples\": [\n          \"\\u0e41\\u0e1e\\u0e23\\u0e48\",\n          \"\\u0e0a\\u0e31\\u0e22\\u0e19\\u0e32\\u0e17\",\n          \"\\u0e19\\u0e04\\u0e23\\u0e19\\u0e32\\u0e22\\u0e01\"\n        ],\n        \"semantic_type\": \"\",\n        \"description\": \"\"\n      }\n    },\n    {\n      \"column\": \"Price\",\n      \"properties\": {\n        \"dtype\": \"number\",\n        \"std\": 185645.2731380427,\n        \"min\": 58000.0,\n        \"max\": 1399000.0,\n        \"num_unique_values\": 339,\n        \"samples\": [\n          457000.0,\n          109000.0,\n          310000.0\n        ],\n        \"semantic_type\": \"\",\n        \"description\": \"\"\n      }\n    },\n    {\n      \"column\": \"Color\",\n      \"properties\": {\n        \"dtype\": \"category\",\n        \"num_unique_values\": 12,\n        \"samples\": [\n          \"Brown\",\n          \"Yellow\",\n          \"Gray\"\n        ],\n        \"semantic_type\": \"\",\n        \"description\": \"\"\n      }\n    },\n    {\n      \"column\": \"Predicted_Price_LR\",\n      \"properties\": {\n        \"dtype\": \"number\",\n        \"std\": 168507.66952037558,\n        \"min\": -139613.59286914585,\n        \"max\": 967649.648386366,\n        \"num_unique_values\": 1419,\n        \"samples\": [\n          286009.945836853,\n          441639.90859647084,\n          514889.0765010025\n        ],\n        \"semantic_type\": \"\",\n        \"description\": \"\"\n      }\n    }\n  ]\n}"
            }
          },
          "metadata": {},
          "execution_count": 34
        }
      ]
    },
    {
      "cell_type": "markdown",
      "source": [
        "# Evaluate and plot relationship between actual and predicted values"
      ],
      "metadata": {
        "id": "YqKa6JeAoYsU"
      }
    },
    {
      "cell_type": "code",
      "source": [
        "# Calculate the mean squared error between actual value and prediction\n",
        "\n",
        "# TODO: Create your own MSE\n",
        "print(\"MSE = \",((y_val-y_pred)**2).sum() / len(y_val))\n",
        "\n",
        "# TODO: Use `mean_squared_error` from scikit learn\n",
        "print(\"MSE (scikit learn) = \",mean_squared_error(y_val, y_pred))\n",
        "\n",
        "\"\"\"\n",
        "mse ต่ำ แปลว่า error น้อย = ดี\n",
        "\"\"\""
      ],
      "metadata": {
        "colab": {
          "base_uri": "https://localhost:8080/",
          "height": 70
        },
        "id": "woXa4P4cn7B6",
        "outputId": "17f23351-adee-4db7-d939-e7c60eeb2fc1"
      },
      "execution_count": 35,
      "outputs": [
        {
          "output_type": "stream",
          "name": "stdout",
          "text": [
            "MSE =  0.003113008331777465\n",
            "MSE (scikit learn) =  0.003113008331777465\n"
          ]
        },
        {
          "output_type": "execute_result",
          "data": {
            "text/plain": [
              "'\\nmse ต่ำ แปลว่า error น้อย = ดี\\n'"
            ],
            "application/vnd.google.colaboratory.intrinsic+json": {
              "type": "string"
            }
          },
          "metadata": {},
          "execution_count": 35
        }
      ]
    },
    {
      "cell_type": "code",
      "source": [
        "# Plot a perfect prediction line.\n",
        "plt.plot([0, 1], [0, 1],  \"--\", color=\"black\",)\n",
        "# Plot the predictions vs the actual values.\n",
        "plt.Figure(figsize=(10, 10))\n",
        "plt.scatter(y_pred, y_val, alpha=0.2)\n",
        "\n",
        "plt.xlabel(\"Predictions value\")\n",
        "plt.ylabel(\"Actual value\")\n",
        "plt.title(\"Predictions vs Actual\")\n",
        "plt.xlim(0, 1)\n",
        "plt.ylim(0, 1)\n",
        "plt.show()"
      ],
      "metadata": {
        "colab": {
          "base_uri": "https://localhost:8080/",
          "height": 472
        },
        "id": "XhF9VnrQpAbq",
        "outputId": "13e27bb7-bd92-49e7-e6f3-741916027b1b"
      },
      "execution_count": 36,
      "outputs": [
        {
          "output_type": "display_data",
          "data": {
            "text/plain": [
              "<Figure size 640x480 with 1 Axes>"
            ],
            "image/png": "[encoded data removed]"
          },
          "metadata": {}
        }
      ]
    },
    {
      "cell_type": "code",
      "source": [
        "joblib.dump(lr_model, \"trained_models/carprice_model_linear_regression.joblib\")"
      ],
      "metadata": {
        "id": "0KEBL4HqqhHT",
        "outputId": "34d523b2-f7c5-46ff-ec9f-a5be4a6b7e9c",
        "colab": {
          "base_uri": "https://localhost:8080/"
        }
      },
      "execution_count": 37,
      "outputs": [
        {
          "output_type": "execute_result",
          "data": {
            "text/plain": [
              "['trained_models/carprice_model_linear_regression.joblib']"
            ]
          },
          "metadata": {},
          "execution_count": 37
        }
      ]
    },
    {
      "cell_type": "markdown",
      "source": [
        "# Train a Neural Network to predict car price"
      ],
      "metadata": {
        "id": "kubTKklV-byj"
      }
    },
    {
      "cell_type": "code",
      "source": [
        "from torch.utils.data import Dataset, DataLoader\n",
        "\n",
        "# Create dataset from numpy array X,y\n",
        "\n",
        "class CarPriceDataset(Dataset):\n",
        "  def __init__(self, X, y = None):\n",
        "    self.X = X\n",
        "    if y is not None: # ถ้า Y ไม่ใช่ค่า None\n",
        "      self.y = y\n",
        "    else:\n",
        "      self.y = None\n",
        "\n",
        "  def __len__(self):\n",
        "    return len(self.X)\n",
        "\n",
        "  def __getitem__(self, idx):\n",
        "    if self.y is not None:\n",
        "      return self.X[idx], self.y[idx]\n",
        "    else:\n",
        "      return self.X[idx]"
      ],
      "metadata": {
        "id": "5JsVBPSA-mzl"
      },
      "execution_count": 38,
      "outputs": []
    },
    {
      "cell_type": "code",
      "source": [
        "# Create dataset and dataloader\n",
        "\n",
        "train_dataset = CarPriceDataset(x_train, y_train)\n",
        "val_dataset = CarPriceDataset(x_val, y_val)\n",
        "\n",
        "train_dataloader = DataLoader(train_dataset, batch_size=32, shuffle=True)\n",
        "val_dataloader = DataLoader(val_dataset, batch_size=32, shuffle=False)\n",
        "\n",
        "x_sample, y_sample = next(iter(train_dataloader))\n",
        "x_sample.shape, y_sample.shape"
      ],
      "metadata": {
        "colab": {
          "base_uri": "https://localhost:8080/"
        },
        "id": "i7i95nnJAkb2",
        "outputId": "c57bdd0d-a28d-438e-af21-2ff6463afd5b"
      },
      "execution_count": 39,
      "outputs": [
        {
          "output_type": "execute_result",
          "data": {
            "text/plain": [
              "(torch.Size([32, 138]), torch.Size([32, 1]))"
            ]
          },
          "metadata": {},
          "execution_count": 39
        }
      ]
    },
    {
      "cell_type": "code",
      "source": [
        "class CarPriceModel(nn.Module):\n",
        "  def __init__(self, input_size, output_size):\n",
        "    super().__init__()\n",
        "    # Create a linear layer with input_size and output size\n",
        "    self.linear = nn.Linear(input_size, output_size)\n",
        "\n",
        "  def forward(self, x):\n",
        "    # Create a forward pass\n",
        "    x = self.linear(x)\n",
        "    return x"
      ],
      "metadata": {
        "id": "2MKpuOmnC8V6"
      },
      "execution_count": 40,
      "outputs": []
    },
    {
      "cell_type": "code",
      "source": [
        "# Create Model\n",
        "\n",
        "n_feature, n_output = x_train.shape[1], y_train.shape[1]\n",
        "print(n_feature, \",\",n_output)\n",
        "model = CarPriceModel(input_size=n_feature, output_size=n_output)\n",
        "model"
      ],
      "metadata": {
        "colab": {
          "base_uri": "https://localhost:8080/"
        },
        "id": "ER9q-WYqEXhV",
        "outputId": "2888794f-b054-4cea-acd7-c60bad1cf8a3"
      },
      "execution_count": 41,
      "outputs": [
        {
          "output_type": "stream",
          "name": "stdout",
          "text": [
            "138 , 1\n"
          ]
        },
        {
          "output_type": "execute_result",
          "data": {
            "text/plain": [
              "CarPriceModel(\n",
              "  (linear): Linear(in_features=138, out_features=1, bias=True)\n",
              ")"
            ]
          },
          "metadata": {},
          "execution_count": 41
        }
      ]
    },
    {
      "cell_type": "code",
      "source": [
        "# Create Train Script\n",
        "\n",
        "def train(\n",
        "    model,\n",
        "    train_dataloader,\n",
        "    test_dataloader,\n",
        "    optimizer,\n",
        "    loss_fn = nn.MSELoss(reduction='mean'),\n",
        "    num_epochs = 100,\n",
        "    update_frequency = 10,\n",
        "):\n",
        "  for epoch in range(num_epochs):\n",
        "    # Set the model to training mode.\n",
        "    model.train()\n",
        "    for x, y in train_dataloader:\n",
        "      # Forward pass\n",
        "      y_pred = model(x.float())\n",
        "\n",
        "      # Calculate loss\n",
        "      loss = loss_fn(y_pred, y.float())\n",
        "\n",
        "      # Backward pass\n",
        "      loss.backward()\n",
        "\n",
        "      # Update the model parameters\n",
        "      optimizer.step()\n",
        "\n",
        "      # Reset the gradients\n",
        "      optimizer.zero_grad()\n",
        "\n",
        "    # Set the model to evaluation mode and calculate the test loss at the end of each epoch.\n",
        "    model.eval()\n",
        "    with torch.no_grad():\n",
        "      for x, y in test_dataloader:\n",
        "        # Forward pass\n",
        "        y_pred = model(x.float())\n",
        "        # Calculate the loss.\n",
        "        loss = loss_fn(y_pred, y.float())\n",
        "\n",
        "      # Print the loss if the epoch is a multiple of 10\n",
        "      if epoch % update_frequency == 0:\n",
        "        print(f\"Epoch {epoch}: {loss.item()}\")"
      ],
      "metadata": {
        "id": "91nZmfBgFWsA"
      },
      "execution_count": 42,
      "outputs": []
    },
    {
      "cell_type": "code",
      "source": [
        "# Define the loss function and the optimizer\n",
        "learning_rate = 1e-3\n",
        "loss_fn = nn.MSELoss(reduction='mean')\n",
        "optimizer = torch.optim.Adam(model.parameters(), lr=learning_rate)\n",
        "\n",
        "# Training the model\n",
        "num_epochs = 120\n",
        "update_frequency = 10\n",
        "\n",
        "train(\n",
        "  model = model,\n",
        "  train_dataloader = train_dataloader,\n",
        "  test_dataloader = val_dataloader,\n",
        "  optimizer = optimizer,\n",
        "  loss_fn = loss_fn,\n",
        "  num_epochs = num_epochs,\n",
        "  update_frequency = update_frequency,\n",
        ")"
      ],
      "metadata": {
        "colab": {
          "base_uri": "https://localhost:8080/"
        },
        "id": "KFYrKSAbJMiP",
        "outputId": "297e97b6-7332-4f8d-c537-ed2a69e2c9d9"
      },
      "execution_count": 43,
      "outputs": [
        {
          "output_type": "stream",
          "name": "stdout",
          "text": [
            "Epoch 0: 0.013553687371313572\n",
            "Epoch 10: 0.0005853541661053896\n",
            "Epoch 20: 0.0006950332317501307\n",
            "Epoch 30: 0.0006944846827536821\n",
            "Epoch 40: 0.0009524113265797496\n",
            "Epoch 50: 0.0007198700332082808\n",
            "Epoch 60: 0.0007385591161437333\n",
            "Epoch 70: 0.0009002360748127103\n",
            "Epoch 80: 0.0008860446978360415\n",
            "Epoch 90: 0.0009060639422386885\n",
            "Epoch 100: 0.0009154097642749548\n",
            "Epoch 110: 0.0010587883880361915\n"
          ]
        }
      ]
    },
    {
      "cell_type": "markdown",
      "source": [
        "# Evaluation the model on the test set with Mean Squared Error"
      ],
      "metadata": {
        "id": "E3M_uic-faOP"
      }
    },
    {
      "cell_type": "code",
      "source": [
        "def predict(model, dataloader):\n",
        "  model.eval()\n",
        "  y_pred_list = []\n",
        "  y_true_list = []\n",
        "  for x, y in dataloader:\n",
        "    y_pred = model(x.float())\n",
        "    prediction = y_pred.detach().numpy()\n",
        "    y = y.numpy()\n",
        "    y_pred_list.append(prediction)\n",
        "    y_true_list.append(y)\n",
        "  y_pred_list = np.concatenate(y_pred_list)\n",
        "  y_true_list = np.concatenate(y_true_list)\n",
        "  return y_pred_list, y_true_list"
      ],
      "metadata": {
        "id": "ftgXXBDYfOlE"
      },
      "execution_count": 44,
      "outputs": []
    },
    {
      "cell_type": "code",
      "source": [
        "# get the predictions for the test set\n",
        "y_pred, y_true = predict(model, val_dataloader)"
      ],
      "metadata": {
        "id": "G0D8oBX5gsO-"
      },
      "execution_count": 45,
      "outputs": []
    },
    {
      "cell_type": "code",
      "source": [
        "mean_squared_error(y_true, y_pred)"
      ],
      "metadata": {
        "colab": {
          "base_uri": "https://localhost:8080/"
        },
        "id": "UQNOgMBZg7ux",
        "outputId": "c2e4b95c-168a-4ba1-badd-e4c3f00863ff"
      },
      "execution_count": 46,
      "outputs": [
        {
          "output_type": "execute_result",
          "data": {
            "text/plain": [
              "0.0031208407869907175"
            ]
          },
          "metadata": {},
          "execution_count": 46
        }
      ]
    },
    {
      "cell_type": "code",
      "source": [
        "# Plot a perfect prediction line.\n",
        "plt.plot([0, 1], [0, 1],  \"--\", color=\"black\",)\n",
        "# Plot the predictions vs the actual values.\n",
        "plt.scatter(y_pred, y_true, alpha=0.2)\n",
        "\n",
        "plt.xlabel(\"Predictions\")\n",
        "plt.ylabel(\"Actual\")\n",
        "plt.title(\"Predictions vs Actual\")\n",
        "plt.xlim(0, 1)\n",
        "plt.ylim(0, 1)\n",
        "plt.show()"
      ],
      "metadata": {
        "colab": {
          "base_uri": "https://localhost:8080/",
          "height": 472
        },
        "id": "4tR6zSmhhvPD",
        "outputId": "b6317ac9-c045-4841-9d7b-3b3723d7a12c"
      },
      "execution_count": 47,
      "outputs": [
        {
          "output_type": "display_data",
          "data": {
            "text/plain": [
              "<Figure size 640x480 with 1 Axes>"
            ],
            "image/png": "[encoded data removed]"
          },
          "metadata": {}
        }
      ]
    },
    {
      "cell_type": "code",
      "source": [
        "torch.save(model.state_dict(), \"trained_models/carprice_model_mse_0003.pth\")"
      ],
      "metadata": {
        "id": "jOnOgUd9hwko"
      },
      "execution_count": 48,
      "outputs": []
    },
    {
      "cell_type": "markdown",
      "source": [
        "# Train a Neural network with multiple layers (MLP)"
      ],
      "metadata": {
        "id": "_sUJqBWHiJnb"
      }
    },
    {
      "cell_type": "code",
      "source": [
        "class CarPriceTwoLayerModel(nn.Module):\n",
        "  def __init__(self, input_size, output_size, intermediate_dim = 10):\n",
        "    super().__init__()\n",
        "    # Create two layers neural network\n",
        "    self.linear1 = nn.Linear(input_size, intermediate_dim)\n",
        "    self.linear2 = nn.Linear(intermediate_dim, output_size)\n",
        "    self.relu = nn.ReLU()\n",
        "\n",
        "  def forward(self, x):\n",
        "    x = self.linear1(x)\n",
        "    x = self.relu(x)\n",
        "    x = self.linear2(x)\n",
        "    return x\n",
        "\n",
        "model_two_layers = CarPriceTwoLayerModel(input_size=n_feature, output_size=n_output)\n",
        "model_two_layers"
      ],
      "metadata": {
        "colab": {
          "base_uri": "https://localhost:8080/"
        },
        "id": "6YrP1jAzh5Iw",
        "outputId": "b18a272e-df4c-4a85-a9ba-46041d1de882"
      },
      "execution_count": 49,
      "outputs": [
        {
          "output_type": "execute_result",
          "data": {
            "text/plain": [
              "CarPriceTwoLayerModel(\n",
              "  (linear1): Linear(in_features=138, out_features=10, bias=True)\n",
              "  (linear2): Linear(in_features=10, out_features=1, bias=True)\n",
              "  (relu): ReLU()\n",
              ")"
            ]
          },
          "metadata": {},
          "execution_count": 49
        }
      ]
    },
    {
      "cell_type": "code",
      "source": [
        "# Define the loss function and the optimizer\n",
        "learning_rate = 1e-3\n",
        "loss_fn = nn.MSELoss(reduction='mean')\n",
        "optimizer = torch.optim.Adam(model_two_layers.parameters(), lr=learning_rate)\n",
        "\n",
        "# Train the model\n",
        "num_epochs = 120\n",
        "update_frequency = 10\n",
        "\n",
        "train(\n",
        "  model = model_two_layers,\n",
        "  train_dataloader = train_dataloader,\n",
        "  test_dataloader = val_dataloader,\n",
        "  optimizer = optimizer,\n",
        "  loss_fn = loss_fn,\n",
        "  num_epochs = num_epochs,\n",
        "  update_frequency = update_frequency,\n",
        ")"
      ],
      "metadata": {
        "colab": {
          "base_uri": "https://localhost:8080/"
        },
        "id": "sYPfDDKfkG-1",
        "outputId": "51ac518d-ee1a-4c66-e71a-a0c5671b441f"
      },
      "execution_count": 50,
      "outputs": [
        {
          "output_type": "stream",
          "name": "stdout",
          "text": [
            "Epoch 0: 0.005994933191686869\n",
            "Epoch 10: 0.0004354179254733026\n",
            "Epoch 20: 0.0010436505544930696\n",
            "Epoch 30: 0.0010701732244342566\n",
            "Epoch 40: 0.0011177692795172334\n",
            "Epoch 50: 0.0011161325965076685\n",
            "Epoch 60: 0.0009875585092231631\n",
            "Epoch 70: 0.0008580007124692202\n",
            "Epoch 80: 0.0006343204877339303\n",
            "Epoch 90: 0.000964334758464247\n",
            "Epoch 100: 0.0009667329723015428\n",
            "Epoch 110: 0.0004823351337108761\n"
          ]
        }
      ]
    },
    {
      "cell_type": "code",
      "source": [
        "y_test, y_true_dl = predict(model_two_layers, val_dataloader)\n",
        "mse_score = mean_squared_error(y_test, y_true_dl)\n",
        "mse_score"
      ],
      "metadata": {
        "colab": {
          "base_uri": "https://localhost:8080/"
        },
        "id": "9Wo-8gZWluRE",
        "outputId": "0ae3ffd0-b628-4c17-8acf-795f57208688"
      },
      "execution_count": 51,
      "outputs": [
        {
          "output_type": "execute_result",
          "data": {
            "text/plain": [
              "0.0018793983808459724"
            ]
          },
          "metadata": {},
          "execution_count": 51
        }
      ]
    },
    {
      "cell_type": "code",
      "source": [
        "# Plot a perfect prediction line.\n",
        "plt.plot([0, 1], [0, 1],  \"--\", color=\"black\",)\n",
        "# Plot the predictions vs the actual values.\n",
        "plt.scatter(y_true_dl, y_test, alpha=0.2)\n",
        "\n",
        "plt.xlabel(\"Predictions value\")\n",
        "plt.ylabel(\"Actual value\")\n",
        "plt.title(\"Predictions vs Actual\")\n",
        "plt.xlim(0, 1)\n",
        "plt.ylim(0, 1)\n",
        "plt.show()"
      ],
      "metadata": {
        "colab": {
          "base_uri": "https://localhost:8080/",
          "height": 472
        },
        "id": "PvjP81UWl1NW",
        "outputId": "08928669-f04d-40f1-d8b1-2241c117603b"
      },
      "execution_count": 52,
      "outputs": [
        {
          "output_type": "display_data",
          "data": {
            "text/plain": [
              "<Figure size 640x480 with 1 Axes>"
            ],
            "image/png": "[encoded data removed]"
          },
          "metadata": {}
        }
      ]
    },
    {
      "cell_type": "code",
      "source": [
        "torch.save(model_two_layers.state_dict(), f\"trained_models/carprice_two_layer_model_mse_00015.pth\")"
      ],
      "metadata": {
        "id": "xt3yXhknl9Ud"
      },
      "execution_count": 53,
      "outputs": []
    },
    {
      "cell_type": "markdown",
      "source": [
        "# Use the models to predict on new data"
      ],
      "metadata": {
        "id": "-M_MeQ5XmeQr"
      }
    },
    {
      "cell_type": "markdown",
      "source": [
        "- Create a model\n",
        "- Load one-hot-encoder and scaler\n",
        "- Transform dataframe\n",
        "- Predict"
      ],
      "metadata": {
        "id": "5Z3i-ogOmlPf"
      }
    },
    {
      "cell_type": "code",
      "source": [
        "import joblib\n",
        "import numpy as np\n",
        "import pandas as pd\n",
        "import torch.nn as nn\n",
        "from sklearn.model_selection import train_test_split\n",
        "from torch.utils.data import Dataset, DataLoader"
      ],
      "metadata": {
        "id": "lI_Bw5oFmdwE"
      },
      "execution_count": 54,
      "outputs": []
    },
    {
      "cell_type": "code",
      "source": [
        "# load data (similar to previous code)\n",
        "\n",
        "df = pd.read_csv(op.join(\"deep-learning-skooldio\", \"rodkaidee-dataset\", \"Rodkaidee Data.csv\"))\n",
        "df[\"Price\"] = df[\"Price\"].apply(lambda x: float(x.replace(\",\", \"\")))\n",
        "df[\"Mileage\"] = df[\"Mileage\"].apply(lambda x: float(x.replace(\",\", \"\")))\n",
        "\n",
        "_, df_test = train_test_split(df, test_size=0.2, random_state=42)"
      ],
      "metadata": {
        "id": "CDeIvvxVm94b"
      },
      "execution_count": 55,
      "outputs": []
    },
    {
      "cell_type": "code",
      "source": [
        "# TODO: create model and load trained weights\n",
        "class CarPriceTwoLayerModel(nn.Module):\n",
        "    def __init__(self, input_size, output_size, intermediate_dim = 10):\n",
        "        super().__init__()\n",
        "        # TODO: Create layers\n",
        "        self.linear1 = nn.Linear(input_size, intermediate_dim)\n",
        "        self.linear2 = nn.Linear(intermediate_dim, output_size)\n",
        "        self.relu = nn.ReLU()\n",
        "\n",
        "    def forward(self, x):\n",
        "        # TODO: Forward pass\n",
        "        x = self.linear1(x)\n",
        "        x = self.relu(x)\n",
        "        x = self.linear2(x)\n",
        "        return x\n",
        "\n",
        "model = CarPriceTwoLayerModel(138, 1)\n",
        "# TODO: load trained weights\n",
        "model.load_state_dict(torch.load(\"trained_models/carprice_two_layer_model_mse_00015.pth\"))"
      ],
      "metadata": {
        "colab": {
          "base_uri": "https://localhost:8080/"
        },
        "id": "i8SQgcBfnlmQ",
        "outputId": "a7abe440-bb43-4b29-bfc6-c3440483192a"
      },
      "execution_count": 56,
      "outputs": [
        {
          "output_type": "stream",
          "name": "stderr",
          "text": [
            "<ipython-input-56-7741967ac77c>:19: FutureWarning: You are using `torch.load` with `weights_only=False` (the current default value), which uses the default pickle module implicitly. It is possible to construct malicious pickle data which will execute arbitrary code during unpickling (See https://github.com/pytorch/pytorch/blob/main/SECURITY.md#untrusted-models for more details). In a future release, the default value for `weights_only` will be flipped to `True`. This limits the functions that could be executed during unpickling. Arbitrary objects will no longer be allowed to be loaded via this mode unless they are explicitly allowlisted by the user via `torch.serialization.add_safe_globals`. We recommend you start setting `weights_only=True` for any use case where you don't have full control of the loaded file. Please open an issue on GitHub for any issues related to this experimental feature.\n",
            "  model.load_state_dict(torch.load(\"trained_models/carprice_two_layer_model_mse_00015.pth\"))\n"
          ]
        },
        {
          "output_type": "execute_result",
          "data": {
            "text/plain": [
              "<All keys matched successfully>"
            ]
          },
          "metadata": {},
          "execution_count": 56
        }
      ]
    },
    {
      "cell_type": "code",
      "source": [
        "# TODO: Load one-hot encoder\n",
        "one_hot_encoder_path = \"trained_models/one_hot_encoder.joblib\"\n",
        "year_scaler_path = \"trained_models/year_scaler.joblib\"\n",
        "mileage_scaler_path = \"trained_models/mileage_scaler.joblib\"\n",
        "price_scaler_path = \"trained_models/price_scaler.joblib\"\n",
        "\n",
        "ohe = joblib.load(one_hot_encoder_path)\n",
        "year_scaler = joblib.load(year_scaler_path)\n",
        "mileage_scaler = joblib.load(mileage_scaler_path)\n",
        "price_scaler = joblib.load(price_scaler_path)"
      ],
      "metadata": {
        "id": "OHs32ZqooXf6"
      },
      "execution_count": 57,
      "outputs": []
    },
    {
      "cell_type": "code",
      "source": [
        "class CarPriceDataset(Dataset):\n",
        "    def __init__(self, X, y = None):\n",
        "        self.X = X\n",
        "        if y is not None:\n",
        "            self.y = y\n",
        "        else:\n",
        "            self.y = None\n",
        "\n",
        "    def __len__(self):\n",
        "        return len(self.X)\n",
        "\n",
        "    def __getitem__(self, idx):\n",
        "        if self.y is not None:\n",
        "            return self.X[idx], self.y[idx]\n",
        "        else:\n",
        "            return self.X[idx]"
      ],
      "metadata": {
        "id": "uZmQWzUDpIaN"
      },
      "execution_count": 58,
      "outputs": []
    },
    {
      "cell_type": "code",
      "source": [
        "# prepare test dataset\n",
        "CAT_COLUMNS = [\"Brand\", \"Model\", \"Engine\", \"Segment\", \"Province\", \"Color\"]\n",
        "X_test = np.hstack([\n",
        "    ohe.transform(df_test[CAT_COLUMNS]),\n",
        "    year_scaler.transform(df_test[[\"Year\"]]),\n",
        "    mileage_scaler.transform(df_test[[\"Mileage\"]]),\n",
        "])\n",
        "test_dataset = CarPriceDataset(X_test)\n",
        "test_dataloader = DataLoader(test_dataset, batch_size=32, shuffle=False)"
      ],
      "metadata": {
        "id": "io4KPh_2pNBL"
      },
      "execution_count": 59,
      "outputs": []
    },
    {
      "cell_type": "code",
      "source": [
        "def predict(model, test_dataloader):\n",
        "    model.eval()\n",
        "    y_pred_list = []\n",
        "    for x in test_dataloader:\n",
        "        y_pred = model(x.float())\n",
        "        prediction = y_pred.detach().numpy()\n",
        "        y_pred_list.extend(prediction)\n",
        "    y_pred_list = np.concatenate(y_pred_list)\n",
        "    return y_pred_list"
      ],
      "metadata": {
        "id": "ac6Q22eYpOSI"
      },
      "execution_count": 60,
      "outputs": []
    },
    {
      "cell_type": "code",
      "source": [
        "y_pred = predict(model, test_dataloader)\n",
        "y_pred_price = price_scaler.inverse_transform(y_pred.reshape(-1, 1))"
      ],
      "metadata": {
        "id": "LJBTvhmrpRez"
      },
      "execution_count": 61,
      "outputs": []
    },
    {
      "cell_type": "code",
      "source": [
        "y_pred"
      ],
      "metadata": {
        "colab": {
          "base_uri": "https://localhost:8080/"
        },
        "id": "GYGVsuV5pbgR",
        "outputId": "650a58ad-38ab-43b5-f2ca-8500a00b34c5"
      },
      "execution_count": 62,
      "outputs": [
        {
          "output_type": "execute_result",
          "data": {
            "text/plain": [
              "array([0.23021655, 0.29181743, 0.19339408, ..., 0.35958332, 0.33203876,\n",
              "       0.18162523], dtype=float32)"
            ]
          },
          "metadata": {},
          "execution_count": 62
        }
      ]
    },
    {
      "cell_type": "code",
      "source": [
        "y_pred_price"
      ],
      "metadata": {
        "colab": {
          "base_uri": "https://localhost:8080/"
        },
        "id": "y_tTR9nDpetH",
        "outputId": "3de6c4a2-df2d-47b6-8799-4e98b3233a6c"
      },
      "execution_count": 63,
      "outputs": [
        {
          "output_type": "execute_result",
          "data": {
            "text/plain": [
              "array([[352310.38],\n",
              "       [437750.78],\n",
              "       [301237.6 ],\n",
              "       ...,\n",
              "       [531742.06],\n",
              "       [493537.75],\n",
              "       [284914.2 ]], dtype=float32)"
            ]
          },
          "metadata": {},
          "execution_count": 63
        }
      ]
    },
    {
      "cell_type": "code",
      "source": [
        "df_test[\"Pred_Price\"] = y_pred_price"
      ],
      "metadata": {
        "id": "yIDJbcHSpTfk"
      },
      "execution_count": 64,
      "outputs": []
    },
    {
      "cell_type": "code",
      "source": [
        "df_test.head()"
      ],
      "metadata": {
        "colab": {
          "base_uri": "https://localhost:8080/",
          "height": 206
        },
        "id": "DDpSijijpk63",
        "outputId": "4084c62a-a589-47e5-d2a1-949119b34194"
      },
      "execution_count": 65,
      "outputs": [
        {
          "output_type": "execute_result",
          "data": {
            "text/plain": [
              "       Brand   Model  Engine    Segment  Year   Mileage       Province  \\\n",
              "2759  Toyota    Vios     1.5  B-Segment  2015   62639.0  กรุงเทพมหานคร   \n",
              "2846  Toyota   Altis     1.6  C-Segment  2015   65615.0          สงขลา   \n",
              "6682   Honda   Civic     2.0  C-Segment  2007  203000.0      สิงห์บุรี   \n",
              "3262  Toyota   Yaris     1.2    Eco Car  2014  124007.0        ราชบุรี   \n",
              "486    Mazda  Mazda2     1.3  B-Segment  2019   51957.0  กรุงเทพมหานคร   \n",
              "\n",
              "         Price   Color    Pred_Price  \n",
              "2759  338000.0    Gray  352310.37500  \n",
              "2846  385000.0  Silver  437750.78125  \n",
              "6682  295000.0    Gray  301237.59375  \n",
              "3262  339000.0   White  336619.31250  \n",
              "486   439000.0    Blue  428296.53125  "
            ],
            "text/html": [
              "\n",
              "  <div id=\"df-77578641-95b4-4279-aba9-0d4df43f2487\" class=\"colab-df-container\">\n",
              "    <div>\n",
              "<style scoped>\n",
              "    .dataframe tbody tr th:only-of-type {\n",
              "        vertical-align: middle;\n",
              "    }\n",
              "\n",
              "    .dataframe tbody tr th {\n",
              "        vertical-align: top;\n",
              "    }\n",
              "\n",
              "    .dataframe thead th {\n",
              "        text-align: right;\n",
              "    }\n",
              "</style>\n",
              "<table border=\"1\" class=\"dataframe\">\n",
              "  <thead>\n",
              "    <tr style=\"text-align: right;\">\n",
              "      <th></th>\n",
              "      <th>Brand</th>\n",
              "      <th>Model</th>\n",
              "      <th>Engine</th>\n",
              "      <th>Segment</th>\n",
              "      <th>Year</th>\n",
              "      <th>Mileage</th>\n",
              "      <th>Province</th>\n",
              "      <th>Price</th>\n",
              "      <th>Color</th>\n",
              "      <th>Pred_Price</th>\n",
              "    </tr>\n",
              "  </thead>\n",
              "  <tbody>\n",
              "    <tr>\n",
              "      <th>2759</th>\n",
              "      <td>Toyota</td>\n",
              "      <td>Vios</td>\n",
              "      <td>1.5</td>\n",
              "      <td>B-Segment</td>\n",
              "      <td>2015</td>\n",
              "      <td>62639.0</td>\n",
              "      <td>กรุงเทพมหานคร</td>\n",
              "      <td>338000.0</td>\n",
              "      <td>Gray</td>\n",
              "      <td>352310.37500</td>\n",
              "    </tr>\n",
              "    <tr>\n",
              "      <th>2846</th>\n",
              "      <td>Toyota</td>\n",
              "      <td>Altis</td>\n",
              "      <td>1.6</td>\n",
              "      <td>C-Segment</td>\n",
              "      <td>2015</td>\n",
              "      <td>65615.0</td>\n",
              "      <td>สงขลา</td>\n",
              "      <td>385000.0</td>\n",
              "      <td>Silver</td>\n",
              "      <td>437750.78125</td>\n",
              "    </tr>\n",
              "    <tr>\n",
              "      <th>6682</th>\n",
              "      <td>Honda</td>\n",
              "      <td>Civic</td>\n",
              "      <td>2.0</td>\n",
              "      <td>C-Segment</td>\n",
              "      <td>2007</td>\n",
              "      <td>203000.0</td>\n",
              "      <td>สิงห์บุรี</td>\n",
              "      <td>295000.0</td>\n",
              "      <td>Gray</td>\n",
              "      <td>301237.59375</td>\n",
              "    </tr>\n",
              "    <tr>\n",
              "      <th>3262</th>\n",
              "      <td>Toyota</td>\n",
              "      <td>Yaris</td>\n",
              "      <td>1.2</td>\n",
              "      <td>Eco Car</td>\n",
              "      <td>2014</td>\n",
              "      <td>124007.0</td>\n",
              "      <td>ราชบุรี</td>\n",
              "      <td>339000.0</td>\n",
              "      <td>White</td>\n",
              "      <td>336619.31250</td>\n",
              "    </tr>\n",
              "    <tr>\n",
              "      <th>486</th>\n",
              "      <td>Mazda</td>\n",
              "      <td>Mazda2</td>\n",
              "      <td>1.3</td>\n",
              "      <td>B-Segment</td>\n",
              "      <td>2019</td>\n",
              "      <td>51957.0</td>\n",
              "      <td>กรุงเทพมหานคร</td>\n",
              "      <td>439000.0</td>\n",
              "      <td>Blue</td>\n",
              "      <td>428296.53125</td>\n",
              "    </tr>\n",
              "  </tbody>\n",
              "</table>\n",
              "</div>\n",
              "    <div class=\"colab-df-buttons\">\n",
              "\n",
              "  <div class=\"colab-df-container\">\n",
              "    <button class=\"colab-df-convert\" onclick=\"convertToInteractive('df-77578641-95b4-4279-aba9-0d4df43f2487')\"\n",
              "            title=\"Convert this dataframe to an interactive table.\"\n",
              "            style=\"display:none;\">\n",
              "\n",
              "  <svg xmlns=\"http://www.w3.org/2000/svg\" height=\"24px\" viewBox=\"0 -960 960 960\">\n",
              "    <path d=\"M120-120v-720h720v720H120Zm60-500h600v-160H180v160Zm220 220h160v-160H400v160Zm0 220h160v-160H400v160ZM180-400h160v-160H180v160Zm440 0h160v-160H620v160ZM180-180h160v-160H180v160Zm440 0h160v-160H620v160Z\"/>\n",
              "  </svg>\n",
              "    </button>\n",
              "\n",
              "  <style>\n",
              "    .colab-df-container {\n",
              "      display:flex;\n",
              "      gap: 12px;\n",
              "    }\n",
              "\n",
              "    .colab-df-convert {\n",
              "      background-color: #E8F0FE;\n",
              "      border: none;\n",
              "      border-radius: 50%;\n",
              "      cursor: pointer;\n",
              "      display: none;\n",
              "      fill: #1967D2;\n",
              "      height: 32px;\n",
              "      padding: 0 0 0 0;\n",
              "      width: 32px;\n",
              "    }\n",
              "\n",
              "    .colab-df-convert:hover {\n",
              "      background-color: #E2EBFA;\n",
              "      box-shadow: 0px 1px 2px rgba(60, 64, 67, 0.3), 0px 1px 3px 1px rgba(60, 64, 67, 0.15);\n",
              "      fill: #174EA6;\n",
              "    }\n",
              "\n",
              "    .colab-df-buttons div {\n",
              "      margin-bottom: 4px;\n",
              "    }\n",
              "\n",
              "    [theme=dark] .colab-df-convert {\n",
              "      background-color: #3B4455;\n",
              "      fill: #D2E3FC;\n",
              "    }\n",
              "\n",
              "    [theme=dark] .colab-df-convert:hover {\n",
              "      background-color: #434B5C;\n",
              "      box-shadow: 0px 1px 3px 1px rgba(0, 0, 0, 0.15);\n",
              "      filter: drop-shadow(0px 1px 2px rgba(0, 0, 0, 0.3));\n",
              "      fill: #FFFFFF;\n",
              "    }\n",
              "  </style>\n",
              "\n",
              "    <script>\n",
              "      const buttonEl =\n",
              "        document.querySelector('#df-77578641-95b4-4279-aba9-0d4df43f2487 button.colab-df-convert');\n",
              "      buttonEl.style.display =\n",
              "        google.colab.kernel.accessAllowed ? 'block' : 'none';\n",
              "\n",
              "      async function convertToInteractive(key) {\n",
              "        const element = document.querySelector('#df-77578641-95b4-4279-aba9-0d4df43f2487');\n",
              "        const dataTable =\n",
              "          await google.colab.kernel.invokeFunction('convertToInteractive',\n",
              "                                                    [key], {});\n",
              "        if (!dataTable) return;\n",
              "\n",
              "        const docLinkHtml = 'Like what you see? Visit the ' +\n",
              "          '<a target=\"_blank\" href=https://colab.research.google.com/notebooks/data_table.ipynb>data table notebook</a>'\n",
              "          + ' to learn more about interactive tables.';\n",
              "        element.innerHTML = '';\n",
              "        dataTable['output_type'] = 'display_data';\n",
              "        await google.colab.output.renderOutput(dataTable, element);\n",
              "        const docLink = document.createElement('div');\n",
              "        docLink.innerHTML = docLinkHtml;\n",
              "        element.appendChild(docLink);\n",
              "      }\n",
              "    </script>\n",
              "  </div>\n",
              "\n",
              "\n",
              "<div id=\"df-86ca64e8-d050-486b-a66a-9049e59ac61d\">\n",
              "  <button class=\"colab-df-quickchart\" onclick=\"quickchart('df-86ca64e8-d050-486b-a66a-9049e59ac61d')\"\n",
              "            title=\"Suggest charts\"\n",
              "            style=\"display:none;\">\n",
              "\n",
              "<svg xmlns=\"http://www.w3.org/2000/svg\" height=\"24px\"viewBox=\"0 0 24 24\"\n",
              "     width=\"24px\">\n",
              "    <g>\n",
              "        <path d=\"M19 3H5c-1.1 0-2 .9-2 2v14c0 1.1.9 2 2 2h14c1.1 0 2-.9 2-2V5c0-1.1-.9-2-2-2zM9 17H7v-7h2v7zm4 0h-2V7h2v10zm4 0h-2v-4h2v4z\"/>\n",
              "    </g>\n",
              "</svg>\n",
              "  </button>\n",
              "\n",
              "<style>\n",
              "  .colab-df-quickchart {\n",
              "      --bg-color: #E8F0FE;\n",
              "      --fill-color: #1967D2;\n",
              "      --hover-bg-color: #E2EBFA;\n",
              "      --hover-fill-color: #174EA6;\n",
              "      --disabled-fill-color: #AAA;\n",
              "      --disabled-bg-color: #DDD;\n",
              "  }\n",
              "\n",
              "  [theme=dark] .colab-df-quickchart {\n",
              "      --bg-color: #3B4455;\n",
              "      --fill-color: #D2E3FC;\n",
              "      --hover-bg-color: #434B5C;\n",
              "      --hover-fill-color: #FFFFFF;\n",
              "      --disabled-bg-color: #3B4455;\n",
              "      --disabled-fill-color: #666;\n",
              "  }\n",
              "\n",
              "  .colab-df-quickchart {\n",
              "    background-color: var(--bg-color);\n",
              "    border: none;\n",
              "    border-radius: 50%;\n",
              "    cursor: pointer;\n",
              "    display: none;\n",
              "    fill: var(--fill-color);\n",
              "    height: 32px;\n",
              "    padding: 0;\n",
              "    width: 32px;\n",
              "  }\n",
              "\n",
              "  .colab-df-quickchart:hover {\n",
              "    background-color: var(--hover-bg-color);\n",
              "    box-shadow: 0 1px 2px rgba(60, 64, 67, 0.3), 0 1px 3px 1px rgba(60, 64, 67, 0.15);\n",
              "    fill: var(--button-hover-fill-color);\n",
              "  }\n",
              "\n",
              "  .colab-df-quickchart-complete:disabled,\n",
              "  .colab-df-quickchart-complete:disabled:hover {\n",
              "    background-color: var(--disabled-bg-color);\n",
              "    fill: var(--disabled-fill-color);\n",
              "    box-shadow: none;\n",
              "  }\n",
              "\n",
              "  .colab-df-spinner {\n",
              "    border: 2px solid var(--fill-color);\n",
              "    border-color: transparent;\n",
              "    border-bottom-color: var(--fill-color);\n",
              "    animation:\n",
              "      spin 1s steps(1) infinite;\n",
              "  }\n",
              "\n",
              "  @keyframes spin {\n",
              "    0% {\n",
              "      border-color: transparent;\n",
              "      border-bottom-color: var(--fill-color);\n",
              "      border-left-color: var(--fill-color);\n",
              "    }\n",
              "    20% {\n",
              "      border-color: transparent;\n",
              "      border-left-color: var(--fill-color);\n",
              "      border-top-color: var(--fill-color);\n",
              "    }\n",
              "    30% {\n",
              "      border-color: transparent;\n",
              "      border-left-color: var(--fill-color);\n",
              "      border-top-color: var(--fill-color);\n",
              "      border-right-color: var(--fill-color);\n",
              "    }\n",
              "    40% {\n",
              "      border-color: transparent;\n",
              "      border-right-color: var(--fill-color);\n",
              "      border-top-color: var(--fill-color);\n",
              "    }\n",
              "    60% {\n",
              "      border-color: transparent;\n",
              "      border-right-color: var(--fill-color);\n",
              "    }\n",
              "    80% {\n",
              "      border-color: transparent;\n",
              "      border-right-color: var(--fill-color);\n",
              "      border-bottom-color: var(--fill-color);\n",
              "    }\n",
              "    90% {\n",
              "      border-color: transparent;\n",
              "      border-bottom-color: var(--fill-color);\n",
              "    }\n",
              "  }\n",
              "</style>\n",
              "\n",
              "  <script>\n",
              "    async function quickchart(key) {\n",
              "      const quickchartButtonEl =\n",
              "        document.querySelector('#' + key + ' button');\n",
              "      quickchartButtonEl.disabled = true;  // To prevent multiple clicks.\n",
              "      quickchartButtonEl.classList.add('colab-df-spinner');\n",
              "      try {\n",
              "        const charts = await google.colab.kernel.invokeFunction(\n",
              "            'suggestCharts', [key], {});\n",
              "      } catch (error) {\n",
              "        console.error('Error during call to suggestCharts:', error);\n",
              "      }\n",
              "      quickchartButtonEl.classList.remove('colab-df-spinner');\n",
              "      quickchartButtonEl.classList.add('colab-df-quickchart-complete');\n",
              "    }\n",
              "    (() => {\n",
              "      let quickchartButtonEl =\n",
              "        document.querySelector('#df-86ca64e8-d050-486b-a66a-9049e59ac61d button');\n",
              "      quickchartButtonEl.style.display =\n",
              "        google.colab.kernel.accessAllowed ? 'block' : 'none';\n",
              "    })();\n",
              "  </script>\n",
              "</div>\n",
              "\n",
              "    </div>\n",
              "  </div>\n"
            ],
            "application/vnd.google.colaboratory.intrinsic+json": {
              "type": "dataframe",
              "variable_name": "df_test",
              "summary": "{\n  \"name\": \"df_test\",\n  \"rows\": 1480,\n  \"fields\": [\n    {\n      \"column\": \"Brand\",\n      \"properties\": {\n        \"dtype\": \"category\",\n        \"num_unique_values\": 6,\n        \"samples\": [\n          \"Toyota\",\n          \"Honda\",\n          \"Mitsubishi\"\n        ],\n        \"semantic_type\": \"\",\n        \"description\": \"\"\n      }\n    },\n    {\n      \"column\": \"Model\",\n      \"properties\": {\n        \"dtype\": \"category\",\n        \"num_unique_values\": 27,\n        \"samples\": [\n          \"City\",\n          \"Lancer\",\n          \"Swift\"\n        ],\n        \"semantic_type\": \"\",\n        \"description\": \"\"\n      }\n    },\n    {\n      \"column\": \"Engine\",\n      \"properties\": {\n        \"dtype\": \"number\",\n        \"std\": 0.3507212437054856,\n        \"min\": 1.0,\n        \"max\": 3.0,\n        \"num_unique_values\": 13,\n        \"samples\": [\n          2.3,\n          2.5,\n          1.5\n        ],\n        \"semantic_type\": \"\",\n        \"description\": \"\"\n      }\n    },\n    {\n      \"column\": \"Segment\",\n      \"properties\": {\n        \"dtype\": \"category\",\n        \"num_unique_values\": 4,\n        \"samples\": [\n          \"C-Segment\",\n          \"D-Segment\",\n          \"B-Segment\"\n        ],\n        \"semantic_type\": \"\",\n        \"description\": \"\"\n      }\n    },\n    {\n      \"column\": \"Year\",\n      \"properties\": {\n        \"dtype\": \"number\",\n        \"std\": 4,\n        \"min\": 2000,\n        \"max\": 2022,\n        \"num_unique_values\": 23,\n        \"samples\": [\n          2016,\n          2017,\n          2015\n        ],\n        \"semantic_type\": \"\",\n        \"description\": \"\"\n      }\n    },\n    {\n      \"column\": \"Mileage\",\n      \"properties\": {\n        \"dtype\": \"number\",\n        \"std\": 65998.61274484944,\n        \"min\": 1000.0,\n        \"max\": 600000.0,\n        \"num_unique_values\": 609,\n        \"samples\": [\n          275000.0,\n          229237.0,\n          162746.0\n        ],\n        \"semantic_type\": \"\",\n        \"description\": \"\"\n      }\n    },\n    {\n      \"column\": \"Province\",\n      \"properties\": {\n        \"dtype\": \"category\",\n        \"num_unique_values\": 53,\n        \"samples\": [\n          \"\\u0e41\\u0e1e\\u0e23\\u0e48\",\n          \"\\u0e0a\\u0e31\\u0e22\\u0e19\\u0e32\\u0e17\",\n          \"\\u0e19\\u0e04\\u0e23\\u0e19\\u0e32\\u0e22\\u0e01\"\n        ],\n        \"semantic_type\": \"\",\n        \"description\": \"\"\n      }\n    },\n    {\n      \"column\": \"Price\",\n      \"properties\": {\n        \"dtype\": \"number\",\n        \"std\": 185645.2731380427,\n        \"min\": 58000.0,\n        \"max\": 1399000.0,\n        \"num_unique_values\": 339,\n        \"samples\": [\n          457000.0,\n          109000.0,\n          310000.0\n        ],\n        \"semantic_type\": \"\",\n        \"description\": \"\"\n      }\n    },\n    {\n      \"column\": \"Color\",\n      \"properties\": {\n        \"dtype\": \"category\",\n        \"num_unique_values\": 12,\n        \"samples\": [\n          \"Brown\",\n          \"Yellow\",\n          \"Gray\"\n        ],\n        \"semantic_type\": \"\",\n        \"description\": \"\"\n      }\n    },\n    {\n      \"column\": \"Pred_Price\",\n      \"properties\": {\n        \"dtype\": \"float32\",\n        \"num_unique_values\": 1424,\n        \"samples\": [\n          319590.84375,\n          492753.78125,\n          366706.84375\n        ],\n        \"semantic_type\": \"\",\n        \"description\": \"\"\n      }\n    }\n  ]\n}"
            }
          },
          "metadata": {},
          "execution_count": 65
        }
      ]
    },
    {
      "cell_type": "code",
      "source": [
        "plt.plot([0, 1_000_000], [0, 1_000_000], color=\"black\", alpha=0.5, linestyle=\"--\")\n",
        "\n",
        "plt.scatter(df_test[\"Pred_Price\"].values, df_test[\"Price\"], alpha=0.2)\n",
        "plt.xlabel(\"Predictions (Baht)\")\n",
        "plt.ylabel(\"Actual (Baht)\")\n",
        "plt.title(\"Predictions vs Actual\")\n",
        "\n",
        "plt.xlim(0, 1_000_000)\n",
        "plt.ylim(0, 1_000_000)\n",
        "plt.show()"
      ],
      "metadata": {
        "colab": {
          "base_uri": "https://localhost:8080/",
          "height": 472
        },
        "id": "HZfrVvCkpmy2",
        "outputId": "ab58ba9b-1c44-4d76-df98-bc0093a716ce"
      },
      "execution_count": 66,
      "outputs": [
        {
          "output_type": "display_data",
          "data": {
            "text/plain": [
              "<Figure size 640x480 with 1 Axes>"
            ],
            "image/png": "[encoded data removed]"
          },
          "metadata": {}
        }
      ]
    },
    {
      "cell_type": "markdown",
      "source": [
        "# Apply with Gradio"
      ],
      "metadata": {
        "id": "X8q87Hm42PQD"
      }
    },
    {
      "cell_type": "code",
      "source": [
        "!pip install gradio==3.35.0\n",
        "!pip install"
      ],
      "metadata": {
        "id": "FvbRTL6Q1-t0"
      },
      "execution_count": null,
      "outputs": []
    },
    {
      "cell_type": "code",
      "source": [
        "import joblib\n",
        "import numpy as np\n",
        "import pandas as pd\n",
        "import gradio as gr\n",
        "\n",
        "import torch\n",
        "import torch.nn as nn\n",
        "from torch.utils.data import Dataset, DataLoader"
      ],
      "metadata": {
        "id": "rywz5k6G2dIL"
      },
      "execution_count": null,
      "outputs": []
    },
    {
      "cell_type": "code",
      "source": [
        "class CarPriceDataset(Dataset):\n",
        "    def __init__(self, X, y = None):\n",
        "        self.X = X\n",
        "        if y is not None:\n",
        "            self.y = y\n",
        "        else:\n",
        "            self.y = None\n",
        "\n",
        "    def __len__(self):\n",
        "        return len(self.X)\n",
        "\n",
        "    def __getitem__(self, idx):\n",
        "        if self.y is not None:\n",
        "            return self.X[idx], self.y[idx]\n",
        "        else:\n",
        "            return self.X[idx]\n",
        "\n",
        "class CarPriceTwoLayerModel(nn.Module):\n",
        "    def __init__(self, input_size, output_size, intermediate_dim = 10):\n",
        "        super().__init__()\n",
        "        self.linear1 = nn.Linear(input_size, intermediate_dim)\n",
        "        self.linear2 = nn.Linear(intermediate_dim, output_size)\n",
        "        self.relu = nn.ReLU()\n",
        "\n",
        "    def forward(self, x):\n",
        "        x = self.linear1(x)\n",
        "        x = self.relu(x)\n",
        "        x = self.linear2(x)\n",
        "        return x\n",
        "\n",
        "# Load model\n",
        "pred_model = CarPriceTwoLayerModel(138, 1)\n",
        "pred_model.load_state_dict(torch.load(\"trained_models/carprice_two_layer_model_mse_00015.pth\"))\n",
        "\n",
        "# Load one-hot encoder and scaler\n",
        "ohe = joblib.load(\"trained_models/one_hot_encoder.joblib\")\n",
        "year_scaler = joblib.load(\"trained_models/year_scaler.joblib\")\n",
        "mileage_scaler = joblib.load(\"trained_models/mileage_scaler.joblib\")\n",
        "price_scaler = joblib.load(\"trained_models/price_scaler.joblib\")"
      ],
      "metadata": {
        "id": "hEwHmMIF23C8"
      },
      "execution_count": null,
      "outputs": []
    },
    {
      "cell_type": "code",
      "source": [
        "CAT_COLUMNS = [\"Brand\", \"Model\", \"Engine\", \"Segment\", \"Province\", \"Color\"]\n",
        "\n",
        "def predict(model, data_loader):\n",
        "    model.eval()\n",
        "    y_pred_list = []\n",
        "    for x in data_loader:\n",
        "        y_pred = model(x.float())\n",
        "        prediction = y_pred.detach().numpy()\n",
        "        y_pred_list.extend(prediction)\n",
        "    y_pred_list = np.concatenate(y_pred_list)\n",
        "    return y_pred_list\n",
        "\n",
        "\n",
        "def predict_car_price(\n",
        "    brand: str, model: str, engine: float, segment: str, province: str,\n",
        "    color: str, year: float, mileage: float\n",
        "):\n",
        "    df = pd.DataFrame([{\n",
        "      \"Brand\": brand,\n",
        "      \"Model\": model,\n",
        "      \"Engine\": engine,\n",
        "      \"Segment\": segment,\n",
        "      \"Province\": province,\n",
        "      \"Color\": color,\n",
        "      \"Year\": year,\n",
        "      \"Mileage\": mileage,\n",
        "    }])\n",
        "    features = np.hstack([\n",
        "        ohe.transform(df[CAT_COLUMNS]),\n",
        "        year_scaler.transform(df[[\"Year\"]]),\n",
        "        mileage_scaler.transform(df[[\"Mileage\"]])\n",
        "    ])\n",
        "    feat_dataset = CarPriceDataset(features)\n",
        "    dataloaders = DataLoader(feat_dataset, batch_size=32, shuffle=False)\n",
        "    y_pred_lr = predict(pred_model, dataloaders)\n",
        "    return int(price_scaler.inverse_transform(y_pred_lr.reshape(-1, 1)).ravel()[0])"
      ],
      "metadata": {
        "id": "n1Yt8sMu3LGc"
      },
      "execution_count": null,
      "outputs": []
    },
    {
      "cell_type": "code",
      "source": [
        "brands = [\n",
        "  'Toyota', 'Honda', 'Mazda', 'Mitsubishi',\n",
        "  'Nissan', 'Suzuki'\n",
        "]\n",
        "models = [\n",
        "  'Vios', 'Altis', 'Civic', 'Mazda3', 'Camry',\n",
        "  'Mirage', 'Brio', 'Lancer Ex', 'Jazz', 'Accord',\n",
        "  'Lancer', 'Yaris', 'Almera', 'City', 'Swift', 'Mazda2',\n",
        "  'Teana', 'Note', 'Celerio', 'March', 'Tiida', 'Prius',\n",
        "  'Ciaz', 'Sylphy', 'Pulsar', 'Attrage', 'Sunny'\n",
        "]\n",
        "engines = [\n",
        "  1.5, 1.8, 1.7, 2.0, 1.2, 1.6, 2.4,\n",
        "  2.5, 1.0, 1.3, 2.3, 3.0, 2.2\n",
        "]\n",
        "segments = ['B-Segment', 'C-Segment', 'D-Segment', 'Eco Car']\n",
        "provinces = [\n",
        "  'สงขลา', 'กรุงเทพมหานคร', 'สระบุรี', 'ชัยนาท', 'ระยอง', 'นครสวรรค์',\n",
        "  'นนทบุรี', 'ตาก', 'สมุทรสาคร', 'เชียงใหม่', 'ลำปาง', 'สุพรรณบุรี', 'เชียงราย',\n",
        "  'เพชรบุรี', 'พิษณุโลก', 'นครปฐม', 'อุดรธานี', 'สมุทรปราการ', 'ปทุมธานี',\n",
        "  'นครราชสีมา', 'ชลบุรี', 'ปัตตานี', 'ราชบุรี', 'ลำพูน', 'กระบี่', 'ฉะเชิงเทรา',\n",
        "  'พัทลุง', 'อ่างทอง', 'ขอนแก่น', 'ปราจีนบุรี', 'สุราษฎร์ธานี', 'ภูเก็ต',\n",
        "  'หนองบัวลำภู', 'พิจิตร', 'พะเยา', 'ตราด', 'นครศรีธรรมราช', 'บุรีรัมย์',\n",
        "  'ลพบุรี', 'อุตรดิตถ์', 'ยโสธร', 'อุบลราชธานี', 'สิงห์บุรี', 'พระนครศรีอยุธยา',\n",
        "  'กาฬสินธุ์', 'สกลนคร', 'ร้อยเอ็ด', 'ระนอง', 'นครพนม', 'อุทัยธานี', 'จันทบุรี',\n",
        "  'มหาสารคาม', 'กาญจนบุรี', 'แพร่', 'บึงกาฬ', 'กำแพงเพชร', 'สมุทรสงคราม',\n",
        "  'สุโขทัย', 'ตรัง', 'แม่ฮ่องสอน', 'อำนาจเจริญ', 'นครนายก', 'ชัยภูมิ', 'พังงา',\n",
        "  'สระแก้ว', 'สุรินทร์', 'นราธิวาส', 'สตูล', 'ประจวบคีรีขันธ์', 'เพชรบูรณ์', 'ศรีสะเกษ',\n",
        "  'หนองคาย', 'ยะลา', 'น่าน'\n",
        "]\n",
        "colors = ['Gray', 'Black', 'Gold', 'Silver', 'Brown', 'White',\n",
        "          'Red', 'Yellow', 'Blue', 'Green', 'Cyan', 'Orange']"
      ],
      "metadata": {
        "id": "3wis_j7A3M08"
      },
      "execution_count": null,
      "outputs": []
    },
    {
      "cell_type": "code",
      "source": [
        "# ตัวอย่างของข้อมูล\n",
        "examples = [\n",
        "  ['Honda', 'Civic', 1.8, 'C-Segment', 'ตรัง', 'Gray', 2009, 185477.0],\n",
        "  ['Honda', 'Accord', 2.4, 'D-Segment', 'ขอนแก่น', 'Black', 2003, 166508.0],\n",
        "  ['Honda', 'Jazz', 1.5, 'B-Segment', 'กรุงเทพมหานคร', 'White', 2011, 62000.0],\n",
        "  ['Honda', 'Civic', 1.8, 'C-Segment', 'พระนครศรีอยุธยา', 'White', 2012, 165346.0],\n",
        "  ['Suzuki', 'Swift', 1.2, 'Eco Car', 'กรุงเทพมหานคร', 'White', 2016, 193000.0],\n",
        "  ['Honda', 'City', 1.0, 'B-Segment', 'กรุงเทพมหานคร', 'Gray', 2020, 29000.0],\n",
        "  ['Honda', 'City', 1.5, 'B-Segment', 'พิษณุโลก', 'Gray', 2007, 126208.0],\n",
        "  ['Toyota', 'Yaris', 1.5, 'Eco Car', 'เชียงใหม่', 'White', 2013, 100000.0],\n",
        "  ['Toyota', 'Altis', 1.6, 'C-Segment', 'กรุงเทพมหานคร', 'Silver', 2009, 260000.0],\n",
        "  ['Honda', 'Civic', 1.8, 'C-Segment', 'กรุงเทพมหานคร', 'Silver', 2006, 232433.0],\n",
        "]\n",
        "\n",
        "interface = gr.Interface(\n",
        "    fn=predict_car_price,\n",
        "    inputs=[\n",
        "      gr.Dropdown(brands, label=\"Brand\", info=\"Select Car Brand\"),\n",
        "      gr.Dropdown(models, label=\"Model\", info=\"Select Car Model\"),\n",
        "      gr.Dropdown(engines, label=\"Engine Size\", info=\"Select Engine Size\"),\n",
        "      gr.Dropdown(segments, label=\"Car segment\", info=\"Select Car Segment\"),\n",
        "      gr.Dropdown(provinces, label=\"Province\", info=\"Select Province\"),\n",
        "      gr.Dropdown(colors, label=\"Color\", info=\"Select Color\"),\n",
        "      gr.Slider(1990, 2023, label=\"Year\", info=\"Select Year\"),\n",
        "      gr.Slider(0, 400000, label=\"Mileage\", info=\"Select Mileage\"),\n",
        "    ],\n",
        "    outputs=gr.Textbox(label=\"ราคาทำนาย (บาท)\", placeholder=\"xxx,xxx (บาท)\"),\n",
        "    examples=examples,\n",
        "    title=\"ทำนายราคารถมือสอง\",\n",
        "    description=\"ตัวอย่างแอพพลิเคชั่นสำหรับคำนวณราคารถมือสอง\",\n",
        ")\n",
        "interface.launch()"
      ],
      "metadata": {
        "id": "_fhVbzhK3R-c"
      },
      "execution_count": null,
      "outputs": []
    }
  ]
}